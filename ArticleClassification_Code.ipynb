{
  "nbformat": 4,
  "nbformat_minor": 0,
  "metadata": {
    "colab": {
      "provenance": [],
      "toc_visible": true
    },
    "kernelspec": {
      "name": "python3",
      "display_name": "Python 3"
    },
    "language_info": {
      "name": "python"
    }
  },
  "cells": [
    {
      "cell_type": "markdown",
      "source": [
        "# INFO 213 Final Project\n",
        "# Project Title: Using Textual Features to Predict Online Article Popularity\n",
        "# Group Members: Claudia Adam (cca57), Anastasiia Poverenova (ap3886), Vincent So (vs634)"
      ],
      "metadata": {
        "id": "obO8vPokYxpg"
      }
    },
    {
      "cell_type": "markdown",
      "source": [
        "Dataset: Online News Popularity\n",
        "\n",
        "https://archive.ics.uci.edu/dataset/332/online+news+popularity"
      ],
      "metadata": {
        "id": "R8Iu4qSmZo9W"
      }
    },
    {
      "cell_type": "markdown",
      "source": [
        "# Preview Dataset\n",
        "(dataset was cleaned by publishers before downloading)"
      ],
      "metadata": {
        "id": "drgKG4k2ZZQM"
      }
    },
    {
      "cell_type": "code",
      "execution_count": null,
      "metadata": {
        "id": "PNbB38jyYOrD"
      },
      "outputs": [],
      "source": [
        "import pandas as pd\n",
        "import numpy as np\n",
        "import matplotlib.pyplot as plt\n",
        "import seaborn as sns; sns.set()"
      ]
    },
    {
      "cell_type": "code",
      "source": [
        "from google.colab import files\n",
        "uploaded = files.upload()"
      ],
      "metadata": {
        "colab": {
          "base_uri": "https://localhost:8080/",
          "height": 74
        },
        "id": "ecrSUdiwYdBh",
        "outputId": "083ae059-a09c-472f-e95d-f523141b8bd2"
      },
      "execution_count": null,
      "outputs": [
        {
          "output_type": "display_data",
          "data": {
            "text/plain": [
              "<IPython.core.display.HTML object>"
            ],
            "text/html": [
              "\n",
              "     <input type=\"file\" id=\"files-6771895d-6d5e-4cd2-9af9-840556dcd09e\" name=\"files[]\" multiple disabled\n",
              "        style=\"border:none\" />\n",
              "     <output id=\"result-6771895d-6d5e-4cd2-9af9-840556dcd09e\">\n",
              "      Upload widget is only available when the cell has been executed in the\n",
              "      current browser session. Please rerun this cell to enable.\n",
              "      </output>\n",
              "      <script>// Copyright 2017 Google LLC\n",
              "//\n",
              "// Licensed under the Apache License, Version 2.0 (the \"License\");\n",
              "// you may not use this file except in compliance with the License.\n",
              "// You may obtain a copy of the License at\n",
              "//\n",
              "//      http://www.apache.org/licenses/LICENSE-2.0\n",
              "//\n",
              "// Unless required by applicable law or agreed to in writing, software\n",
              "// distributed under the License is distributed on an \"AS IS\" BASIS,\n",
              "// WITHOUT WARRANTIES OR CONDITIONS OF ANY KIND, either express or implied.\n",
              "// See the License for the specific language governing permissions and\n",
              "// limitations under the License.\n",
              "\n",
              "/**\n",
              " * @fileoverview Helpers for google.colab Python module.\n",
              " */\n",
              "(function(scope) {\n",
              "function span(text, styleAttributes = {}) {\n",
              "  const element = document.createElement('span');\n",
              "  element.textContent = text;\n",
              "  for (const key of Object.keys(styleAttributes)) {\n",
              "    element.style[key] = styleAttributes[key];\n",
              "  }\n",
              "  return element;\n",
              "}\n",
              "\n",
              "// Max number of bytes which will be uploaded at a time.\n",
              "const MAX_PAYLOAD_SIZE = 100 * 1024;\n",
              "\n",
              "function _uploadFiles(inputId, outputId) {\n",
              "  const steps = uploadFilesStep(inputId, outputId);\n",
              "  const outputElement = document.getElementById(outputId);\n",
              "  // Cache steps on the outputElement to make it available for the next call\n",
              "  // to uploadFilesContinue from Python.\n",
              "  outputElement.steps = steps;\n",
              "\n",
              "  return _uploadFilesContinue(outputId);\n",
              "}\n",
              "\n",
              "// This is roughly an async generator (not supported in the browser yet),\n",
              "// where there are multiple asynchronous steps and the Python side is going\n",
              "// to poll for completion of each step.\n",
              "// This uses a Promise to block the python side on completion of each step,\n",
              "// then passes the result of the previous step as the input to the next step.\n",
              "function _uploadFilesContinue(outputId) {\n",
              "  const outputElement = document.getElementById(outputId);\n",
              "  const steps = outputElement.steps;\n",
              "\n",
              "  const next = steps.next(outputElement.lastPromiseValue);\n",
              "  return Promise.resolve(next.value.promise).then((value) => {\n",
              "    // Cache the last promise value to make it available to the next\n",
              "    // step of the generator.\n",
              "    outputElement.lastPromiseValue = value;\n",
              "    return next.value.response;\n",
              "  });\n",
              "}\n",
              "\n",
              "/**\n",
              " * Generator function which is called between each async step of the upload\n",
              " * process.\n",
              " * @param {string} inputId Element ID of the input file picker element.\n",
              " * @param {string} outputId Element ID of the output display.\n",
              " * @return {!Iterable<!Object>} Iterable of next steps.\n",
              " */\n",
              "function* uploadFilesStep(inputId, outputId) {\n",
              "  const inputElement = document.getElementById(inputId);\n",
              "  inputElement.disabled = false;\n",
              "\n",
              "  const outputElement = document.getElementById(outputId);\n",
              "  outputElement.innerHTML = '';\n",
              "\n",
              "  const pickedPromise = new Promise((resolve) => {\n",
              "    inputElement.addEventListener('change', (e) => {\n",
              "      resolve(e.target.files);\n",
              "    });\n",
              "  });\n",
              "\n",
              "  const cancel = document.createElement('button');\n",
              "  inputElement.parentElement.appendChild(cancel);\n",
              "  cancel.textContent = 'Cancel upload';\n",
              "  const cancelPromise = new Promise((resolve) => {\n",
              "    cancel.onclick = () => {\n",
              "      resolve(null);\n",
              "    };\n",
              "  });\n",
              "\n",
              "  // Wait for the user to pick the files.\n",
              "  const files = yield {\n",
              "    promise: Promise.race([pickedPromise, cancelPromise]),\n",
              "    response: {\n",
              "      action: 'starting',\n",
              "    }\n",
              "  };\n",
              "\n",
              "  cancel.remove();\n",
              "\n",
              "  // Disable the input element since further picks are not allowed.\n",
              "  inputElement.disabled = true;\n",
              "\n",
              "  if (!files) {\n",
              "    return {\n",
              "      response: {\n",
              "        action: 'complete',\n",
              "      }\n",
              "    };\n",
              "  }\n",
              "\n",
              "  for (const file of files) {\n",
              "    const li = document.createElement('li');\n",
              "    li.append(span(file.name, {fontWeight: 'bold'}));\n",
              "    li.append(span(\n",
              "        `(${file.type || 'n/a'}) - ${file.size} bytes, ` +\n",
              "        `last modified: ${\n",
              "            file.lastModifiedDate ? file.lastModifiedDate.toLocaleDateString() :\n",
              "                                    'n/a'} - `));\n",
              "    const percent = span('0% done');\n",
              "    li.appendChild(percent);\n",
              "\n",
              "    outputElement.appendChild(li);\n",
              "\n",
              "    const fileDataPromise = new Promise((resolve) => {\n",
              "      const reader = new FileReader();\n",
              "      reader.onload = (e) => {\n",
              "        resolve(e.target.result);\n",
              "      };\n",
              "      reader.readAsArrayBuffer(file);\n",
              "    });\n",
              "    // Wait for the data to be ready.\n",
              "    let fileData = yield {\n",
              "      promise: fileDataPromise,\n",
              "      response: {\n",
              "        action: 'continue',\n",
              "      }\n",
              "    };\n",
              "\n",
              "    // Use a chunked sending to avoid message size limits. See b/62115660.\n",
              "    let position = 0;\n",
              "    do {\n",
              "      const length = Math.min(fileData.byteLength - position, MAX_PAYLOAD_SIZE);\n",
              "      const chunk = new Uint8Array(fileData, position, length);\n",
              "      position += length;\n",
              "\n",
              "      const base64 = btoa(String.fromCharCode.apply(null, chunk));\n",
              "      yield {\n",
              "        response: {\n",
              "          action: 'append',\n",
              "          file: file.name,\n",
              "          data: base64,\n",
              "        },\n",
              "      };\n",
              "\n",
              "      let percentDone = fileData.byteLength === 0 ?\n",
              "          100 :\n",
              "          Math.round((position / fileData.byteLength) * 100);\n",
              "      percent.textContent = `${percentDone}% done`;\n",
              "\n",
              "    } while (position < fileData.byteLength);\n",
              "  }\n",
              "\n",
              "  // All done.\n",
              "  yield {\n",
              "    response: {\n",
              "      action: 'complete',\n",
              "    }\n",
              "  };\n",
              "}\n",
              "\n",
              "scope.google = scope.google || {};\n",
              "scope.google.colab = scope.google.colab || {};\n",
              "scope.google.colab._files = {\n",
              "  _uploadFiles,\n",
              "  _uploadFilesContinue,\n",
              "};\n",
              "})(self);\n",
              "</script> "
            ]
          },
          "metadata": {}
        },
        {
          "output_type": "stream",
          "name": "stdout",
          "text": [
            "Saving OnlineNewsPopularity.csv to OnlineNewsPopularity (1).csv\n"
          ]
        }
      ]
    },
    {
      "cell_type": "code",
      "source": [
        "df = pd.read_csv('OnlineNewsPopularity.csv')\n",
        "df.columns = df.columns.str.strip()\n",
        "df.head()"
      ],
      "metadata": {
        "colab": {
          "base_uri": "https://localhost:8080/",
          "height": 342
        },
        "id": "PM-TbLScZEMT",
        "outputId": "fc0d6834-238b-4341-e176-76c47e3cd8b1"
      },
      "execution_count": null,
      "outputs": [
        {
          "output_type": "execute_result",
          "data": {
            "text/plain": [
              "                                                 url  timedelta  \\\n",
              "0  http://mashable.com/2013/01/07/amazon-instant-...      731.0   \n",
              "1  http://mashable.com/2013/01/07/ap-samsung-spon...      731.0   \n",
              "2  http://mashable.com/2013/01/07/apple-40-billio...      731.0   \n",
              "3  http://mashable.com/2013/01/07/astronaut-notre...      731.0   \n",
              "4   http://mashable.com/2013/01/07/att-u-verse-apps/      731.0   \n",
              "\n",
              "   n_tokens_title  n_tokens_content  n_unique_tokens  n_non_stop_words  \\\n",
              "0            12.0             219.0         0.663594               1.0   \n",
              "1             9.0             255.0         0.604743               1.0   \n",
              "2             9.0             211.0         0.575130               1.0   \n",
              "3             9.0             531.0         0.503788               1.0   \n",
              "4            13.0            1072.0         0.415646               1.0   \n",
              "\n",
              "   n_non_stop_unique_tokens  num_hrefs  num_self_hrefs  num_imgs  ...  \\\n",
              "0                  0.815385        4.0             2.0       1.0  ...   \n",
              "1                  0.791946        3.0             1.0       1.0  ...   \n",
              "2                  0.663866        3.0             1.0       1.0  ...   \n",
              "3                  0.665635        9.0             0.0       1.0  ...   \n",
              "4                  0.540890       19.0            19.0      20.0  ...   \n",
              "\n",
              "   min_positive_polarity  max_positive_polarity  avg_negative_polarity  \\\n",
              "0               0.100000                    0.7              -0.350000   \n",
              "1               0.033333                    0.7              -0.118750   \n",
              "2               0.100000                    1.0              -0.466667   \n",
              "3               0.136364                    0.8              -0.369697   \n",
              "4               0.033333                    1.0              -0.220192   \n",
              "\n",
              "   min_negative_polarity  max_negative_polarity  title_subjectivity  \\\n",
              "0                 -0.600              -0.200000            0.500000   \n",
              "1                 -0.125              -0.100000            0.000000   \n",
              "2                 -0.800              -0.133333            0.000000   \n",
              "3                 -0.600              -0.166667            0.000000   \n",
              "4                 -0.500              -0.050000            0.454545   \n",
              "\n",
              "   title_sentiment_polarity  abs_title_subjectivity  \\\n",
              "0                 -0.187500                0.000000   \n",
              "1                  0.000000                0.500000   \n",
              "2                  0.000000                0.500000   \n",
              "3                  0.000000                0.500000   \n",
              "4                  0.136364                0.045455   \n",
              "\n",
              "   abs_title_sentiment_polarity  shares  \n",
              "0                      0.187500     593  \n",
              "1                      0.000000     711  \n",
              "2                      0.000000    1500  \n",
              "3                      0.000000    1200  \n",
              "4                      0.136364     505  \n",
              "\n",
              "[5 rows x 61 columns]"
            ],
            "text/html": [
              "\n",
              "  <div id=\"df-eb5f7d36-33bc-4a72-b12d-603ffffdeb7d\" class=\"colab-df-container\">\n",
              "    <div>\n",
              "<style scoped>\n",
              "    .dataframe tbody tr th:only-of-type {\n",
              "        vertical-align: middle;\n",
              "    }\n",
              "\n",
              "    .dataframe tbody tr th {\n",
              "        vertical-align: top;\n",
              "    }\n",
              "\n",
              "    .dataframe thead th {\n",
              "        text-align: right;\n",
              "    }\n",
              "</style>\n",
              "<table border=\"1\" class=\"dataframe\">\n",
              "  <thead>\n",
              "    <tr style=\"text-align: right;\">\n",
              "      <th></th>\n",
              "      <th>url</th>\n",
              "      <th>timedelta</th>\n",
              "      <th>n_tokens_title</th>\n",
              "      <th>n_tokens_content</th>\n",
              "      <th>n_unique_tokens</th>\n",
              "      <th>n_non_stop_words</th>\n",
              "      <th>n_non_stop_unique_tokens</th>\n",
              "      <th>num_hrefs</th>\n",
              "      <th>num_self_hrefs</th>\n",
              "      <th>num_imgs</th>\n",
              "      <th>...</th>\n",
              "      <th>min_positive_polarity</th>\n",
              "      <th>max_positive_polarity</th>\n",
              "      <th>avg_negative_polarity</th>\n",
              "      <th>min_negative_polarity</th>\n",
              "      <th>max_negative_polarity</th>\n",
              "      <th>title_subjectivity</th>\n",
              "      <th>title_sentiment_polarity</th>\n",
              "      <th>abs_title_subjectivity</th>\n",
              "      <th>abs_title_sentiment_polarity</th>\n",
              "      <th>shares</th>\n",
              "    </tr>\n",
              "  </thead>\n",
              "  <tbody>\n",
              "    <tr>\n",
              "      <th>0</th>\n",
              "      <td>http://mashable.com/2013/01/07/amazon-instant-...</td>\n",
              "      <td>731.0</td>\n",
              "      <td>12.0</td>\n",
              "      <td>219.0</td>\n",
              "      <td>0.663594</td>\n",
              "      <td>1.0</td>\n",
              "      <td>0.815385</td>\n",
              "      <td>4.0</td>\n",
              "      <td>2.0</td>\n",
              "      <td>1.0</td>\n",
              "      <td>...</td>\n",
              "      <td>0.100000</td>\n",
              "      <td>0.7</td>\n",
              "      <td>-0.350000</td>\n",
              "      <td>-0.600</td>\n",
              "      <td>-0.200000</td>\n",
              "      <td>0.500000</td>\n",
              "      <td>-0.187500</td>\n",
              "      <td>0.000000</td>\n",
              "      <td>0.187500</td>\n",
              "      <td>593</td>\n",
              "    </tr>\n",
              "    <tr>\n",
              "      <th>1</th>\n",
              "      <td>http://mashable.com/2013/01/07/ap-samsung-spon...</td>\n",
              "      <td>731.0</td>\n",
              "      <td>9.0</td>\n",
              "      <td>255.0</td>\n",
              "      <td>0.604743</td>\n",
              "      <td>1.0</td>\n",
              "      <td>0.791946</td>\n",
              "      <td>3.0</td>\n",
              "      <td>1.0</td>\n",
              "      <td>1.0</td>\n",
              "      <td>...</td>\n",
              "      <td>0.033333</td>\n",
              "      <td>0.7</td>\n",
              "      <td>-0.118750</td>\n",
              "      <td>-0.125</td>\n",
              "      <td>-0.100000</td>\n",
              "      <td>0.000000</td>\n",
              "      <td>0.000000</td>\n",
              "      <td>0.500000</td>\n",
              "      <td>0.000000</td>\n",
              "      <td>711</td>\n",
              "    </tr>\n",
              "    <tr>\n",
              "      <th>2</th>\n",
              "      <td>http://mashable.com/2013/01/07/apple-40-billio...</td>\n",
              "      <td>731.0</td>\n",
              "      <td>9.0</td>\n",
              "      <td>211.0</td>\n",
              "      <td>0.575130</td>\n",
              "      <td>1.0</td>\n",
              "      <td>0.663866</td>\n",
              "      <td>3.0</td>\n",
              "      <td>1.0</td>\n",
              "      <td>1.0</td>\n",
              "      <td>...</td>\n",
              "      <td>0.100000</td>\n",
              "      <td>1.0</td>\n",
              "      <td>-0.466667</td>\n",
              "      <td>-0.800</td>\n",
              "      <td>-0.133333</td>\n",
              "      <td>0.000000</td>\n",
              "      <td>0.000000</td>\n",
              "      <td>0.500000</td>\n",
              "      <td>0.000000</td>\n",
              "      <td>1500</td>\n",
              "    </tr>\n",
              "    <tr>\n",
              "      <th>3</th>\n",
              "      <td>http://mashable.com/2013/01/07/astronaut-notre...</td>\n",
              "      <td>731.0</td>\n",
              "      <td>9.0</td>\n",
              "      <td>531.0</td>\n",
              "      <td>0.503788</td>\n",
              "      <td>1.0</td>\n",
              "      <td>0.665635</td>\n",
              "      <td>9.0</td>\n",
              "      <td>0.0</td>\n",
              "      <td>1.0</td>\n",
              "      <td>...</td>\n",
              "      <td>0.136364</td>\n",
              "      <td>0.8</td>\n",
              "      <td>-0.369697</td>\n",
              "      <td>-0.600</td>\n",
              "      <td>-0.166667</td>\n",
              "      <td>0.000000</td>\n",
              "      <td>0.000000</td>\n",
              "      <td>0.500000</td>\n",
              "      <td>0.000000</td>\n",
              "      <td>1200</td>\n",
              "    </tr>\n",
              "    <tr>\n",
              "      <th>4</th>\n",
              "      <td>http://mashable.com/2013/01/07/att-u-verse-apps/</td>\n",
              "      <td>731.0</td>\n",
              "      <td>13.0</td>\n",
              "      <td>1072.0</td>\n",
              "      <td>0.415646</td>\n",
              "      <td>1.0</td>\n",
              "      <td>0.540890</td>\n",
              "      <td>19.0</td>\n",
              "      <td>19.0</td>\n",
              "      <td>20.0</td>\n",
              "      <td>...</td>\n",
              "      <td>0.033333</td>\n",
              "      <td>1.0</td>\n",
              "      <td>-0.220192</td>\n",
              "      <td>-0.500</td>\n",
              "      <td>-0.050000</td>\n",
              "      <td>0.454545</td>\n",
              "      <td>0.136364</td>\n",
              "      <td>0.045455</td>\n",
              "      <td>0.136364</td>\n",
              "      <td>505</td>\n",
              "    </tr>\n",
              "  </tbody>\n",
              "</table>\n",
              "<p>5 rows × 61 columns</p>\n",
              "</div>\n",
              "    <div class=\"colab-df-buttons\">\n",
              "\n",
              "  <div class=\"colab-df-container\">\n",
              "    <button class=\"colab-df-convert\" onclick=\"convertToInteractive('df-eb5f7d36-33bc-4a72-b12d-603ffffdeb7d')\"\n",
              "            title=\"Convert this dataframe to an interactive table.\"\n",
              "            style=\"display:none;\">\n",
              "\n",
              "  <svg xmlns=\"http://www.w3.org/2000/svg\" height=\"24px\" viewBox=\"0 -960 960 960\">\n",
              "    <path d=\"M120-120v-720h720v720H120Zm60-500h600v-160H180v160Zm220 220h160v-160H400v160Zm0 220h160v-160H400v160ZM180-400h160v-160H180v160Zm440 0h160v-160H620v160ZM180-180h160v-160H180v160Zm440 0h160v-160H620v160Z\"/>\n",
              "  </svg>\n",
              "    </button>\n",
              "\n",
              "  <style>\n",
              "    .colab-df-container {\n",
              "      display:flex;\n",
              "      gap: 12px;\n",
              "    }\n",
              "\n",
              "    .colab-df-convert {\n",
              "      background-color: #E8F0FE;\n",
              "      border: none;\n",
              "      border-radius: 50%;\n",
              "      cursor: pointer;\n",
              "      display: none;\n",
              "      fill: #1967D2;\n",
              "      height: 32px;\n",
              "      padding: 0 0 0 0;\n",
              "      width: 32px;\n",
              "    }\n",
              "\n",
              "    .colab-df-convert:hover {\n",
              "      background-color: #E2EBFA;\n",
              "      box-shadow: 0px 1px 2px rgba(60, 64, 67, 0.3), 0px 1px 3px 1px rgba(60, 64, 67, 0.15);\n",
              "      fill: #174EA6;\n",
              "    }\n",
              "\n",
              "    .colab-df-buttons div {\n",
              "      margin-bottom: 4px;\n",
              "    }\n",
              "\n",
              "    [theme=dark] .colab-df-convert {\n",
              "      background-color: #3B4455;\n",
              "      fill: #D2E3FC;\n",
              "    }\n",
              "\n",
              "    [theme=dark] .colab-df-convert:hover {\n",
              "      background-color: #434B5C;\n",
              "      box-shadow: 0px 1px 3px 1px rgba(0, 0, 0, 0.15);\n",
              "      filter: drop-shadow(0px 1px 2px rgba(0, 0, 0, 0.3));\n",
              "      fill: #FFFFFF;\n",
              "    }\n",
              "  </style>\n",
              "\n",
              "    <script>\n",
              "      const buttonEl =\n",
              "        document.querySelector('#df-eb5f7d36-33bc-4a72-b12d-603ffffdeb7d button.colab-df-convert');\n",
              "      buttonEl.style.display =\n",
              "        google.colab.kernel.accessAllowed ? 'block' : 'none';\n",
              "\n",
              "      async function convertToInteractive(key) {\n",
              "        const element = document.querySelector('#df-eb5f7d36-33bc-4a72-b12d-603ffffdeb7d');\n",
              "        const dataTable =\n",
              "          await google.colab.kernel.invokeFunction('convertToInteractive',\n",
              "                                                    [key], {});\n",
              "        if (!dataTable) return;\n",
              "\n",
              "        const docLinkHtml = 'Like what you see? Visit the ' +\n",
              "          '<a target=\"_blank\" href=https://colab.research.google.com/notebooks/data_table.ipynb>data table notebook</a>'\n",
              "          + ' to learn more about interactive tables.';\n",
              "        element.innerHTML = '';\n",
              "        dataTable['output_type'] = 'display_data';\n",
              "        await google.colab.output.renderOutput(dataTable, element);\n",
              "        const docLink = document.createElement('div');\n",
              "        docLink.innerHTML = docLinkHtml;\n",
              "        element.appendChild(docLink);\n",
              "      }\n",
              "    </script>\n",
              "  </div>\n",
              "\n",
              "\n",
              "    <div id=\"df-6343261b-9f32-41a7-9865-6d2efcea6e4a\">\n",
              "      <button class=\"colab-df-quickchart\" onclick=\"quickchart('df-6343261b-9f32-41a7-9865-6d2efcea6e4a')\"\n",
              "                title=\"Suggest charts\"\n",
              "                style=\"display:none;\">\n",
              "\n",
              "<svg xmlns=\"http://www.w3.org/2000/svg\" height=\"24px\"viewBox=\"0 0 24 24\"\n",
              "     width=\"24px\">\n",
              "    <g>\n",
              "        <path d=\"M19 3H5c-1.1 0-2 .9-2 2v14c0 1.1.9 2 2 2h14c1.1 0 2-.9 2-2V5c0-1.1-.9-2-2-2zM9 17H7v-7h2v7zm4 0h-2V7h2v10zm4 0h-2v-4h2v4z\"/>\n",
              "    </g>\n",
              "</svg>\n",
              "      </button>\n",
              "\n",
              "<style>\n",
              "  .colab-df-quickchart {\n",
              "      --bg-color: #E8F0FE;\n",
              "      --fill-color: #1967D2;\n",
              "      --hover-bg-color: #E2EBFA;\n",
              "      --hover-fill-color: #174EA6;\n",
              "      --disabled-fill-color: #AAA;\n",
              "      --disabled-bg-color: #DDD;\n",
              "  }\n",
              "\n",
              "  [theme=dark] .colab-df-quickchart {\n",
              "      --bg-color: #3B4455;\n",
              "      --fill-color: #D2E3FC;\n",
              "      --hover-bg-color: #434B5C;\n",
              "      --hover-fill-color: #FFFFFF;\n",
              "      --disabled-bg-color: #3B4455;\n",
              "      --disabled-fill-color: #666;\n",
              "  }\n",
              "\n",
              "  .colab-df-quickchart {\n",
              "    background-color: var(--bg-color);\n",
              "    border: none;\n",
              "    border-radius: 50%;\n",
              "    cursor: pointer;\n",
              "    display: none;\n",
              "    fill: var(--fill-color);\n",
              "    height: 32px;\n",
              "    padding: 0;\n",
              "    width: 32px;\n",
              "  }\n",
              "\n",
              "  .colab-df-quickchart:hover {\n",
              "    background-color: var(--hover-bg-color);\n",
              "    box-shadow: 0 1px 2px rgba(60, 64, 67, 0.3), 0 1px 3px 1px rgba(60, 64, 67, 0.15);\n",
              "    fill: var(--button-hover-fill-color);\n",
              "  }\n",
              "\n",
              "  .colab-df-quickchart-complete:disabled,\n",
              "  .colab-df-quickchart-complete:disabled:hover {\n",
              "    background-color: var(--disabled-bg-color);\n",
              "    fill: var(--disabled-fill-color);\n",
              "    box-shadow: none;\n",
              "  }\n",
              "\n",
              "  .colab-df-spinner {\n",
              "    border: 2px solid var(--fill-color);\n",
              "    border-color: transparent;\n",
              "    border-bottom-color: var(--fill-color);\n",
              "    animation:\n",
              "      spin 1s steps(1) infinite;\n",
              "  }\n",
              "\n",
              "  @keyframes spin {\n",
              "    0% {\n",
              "      border-color: transparent;\n",
              "      border-bottom-color: var(--fill-color);\n",
              "      border-left-color: var(--fill-color);\n",
              "    }\n",
              "    20% {\n",
              "      border-color: transparent;\n",
              "      border-left-color: var(--fill-color);\n",
              "      border-top-color: var(--fill-color);\n",
              "    }\n",
              "    30% {\n",
              "      border-color: transparent;\n",
              "      border-left-color: var(--fill-color);\n",
              "      border-top-color: var(--fill-color);\n",
              "      border-right-color: var(--fill-color);\n",
              "    }\n",
              "    40% {\n",
              "      border-color: transparent;\n",
              "      border-right-color: var(--fill-color);\n",
              "      border-top-color: var(--fill-color);\n",
              "    }\n",
              "    60% {\n",
              "      border-color: transparent;\n",
              "      border-right-color: var(--fill-color);\n",
              "    }\n",
              "    80% {\n",
              "      border-color: transparent;\n",
              "      border-right-color: var(--fill-color);\n",
              "      border-bottom-color: var(--fill-color);\n",
              "    }\n",
              "    90% {\n",
              "      border-color: transparent;\n",
              "      border-bottom-color: var(--fill-color);\n",
              "    }\n",
              "  }\n",
              "</style>\n",
              "\n",
              "      <script>\n",
              "        async function quickchart(key) {\n",
              "          const quickchartButtonEl =\n",
              "            document.querySelector('#' + key + ' button');\n",
              "          quickchartButtonEl.disabled = true;  // To prevent multiple clicks.\n",
              "          quickchartButtonEl.classList.add('colab-df-spinner');\n",
              "          try {\n",
              "            const charts = await google.colab.kernel.invokeFunction(\n",
              "                'suggestCharts', [key], {});\n",
              "          } catch (error) {\n",
              "            console.error('Error during call to suggestCharts:', error);\n",
              "          }\n",
              "          quickchartButtonEl.classList.remove('colab-df-spinner');\n",
              "          quickchartButtonEl.classList.add('colab-df-quickchart-complete');\n",
              "        }\n",
              "        (() => {\n",
              "          let quickchartButtonEl =\n",
              "            document.querySelector('#df-6343261b-9f32-41a7-9865-6d2efcea6e4a button');\n",
              "          quickchartButtonEl.style.display =\n",
              "            google.colab.kernel.accessAllowed ? 'block' : 'none';\n",
              "        })();\n",
              "      </script>\n",
              "    </div>\n",
              "\n",
              "    </div>\n",
              "  </div>\n"
            ],
            "application/vnd.google.colaboratory.intrinsic+json": {
              "type": "dataframe",
              "variable_name": "df"
            }
          },
          "metadata": {},
          "execution_count": 41
        }
      ]
    },
    {
      "cell_type": "code",
      "source": [
        "df.info()"
      ],
      "metadata": {
        "colab": {
          "base_uri": "https://localhost:8080/"
        },
        "id": "oD0OU-xiZLgS",
        "outputId": "fac13c0f-95b8-4cbd-acd0-387e6139f690"
      },
      "execution_count": null,
      "outputs": [
        {
          "output_type": "stream",
          "name": "stdout",
          "text": [
            "<class 'pandas.core.frame.DataFrame'>\n",
            "RangeIndex: 39644 entries, 0 to 39643\n",
            "Data columns (total 61 columns):\n",
            " #   Column                         Non-Null Count  Dtype  \n",
            "---  ------                         --------------  -----  \n",
            " 0   url                            39644 non-null  object \n",
            " 1   timedelta                      39644 non-null  float64\n",
            " 2   n_tokens_title                 39644 non-null  float64\n",
            " 3   n_tokens_content               39644 non-null  float64\n",
            " 4   n_unique_tokens                39644 non-null  float64\n",
            " 5   n_non_stop_words               39644 non-null  float64\n",
            " 6   n_non_stop_unique_tokens       39644 non-null  float64\n",
            " 7   num_hrefs                      39644 non-null  float64\n",
            " 8   num_self_hrefs                 39644 non-null  float64\n",
            " 9   num_imgs                       39644 non-null  float64\n",
            " 10  num_videos                     39644 non-null  float64\n",
            " 11  average_token_length           39644 non-null  float64\n",
            " 12  num_keywords                   39644 non-null  float64\n",
            " 13  data_channel_is_lifestyle      39644 non-null  float64\n",
            " 14  data_channel_is_entertainment  39644 non-null  float64\n",
            " 15  data_channel_is_bus            39644 non-null  float64\n",
            " 16  data_channel_is_socmed         39644 non-null  float64\n",
            " 17  data_channel_is_tech           39644 non-null  float64\n",
            " 18  data_channel_is_world          39644 non-null  float64\n",
            " 19  kw_min_min                     39644 non-null  float64\n",
            " 20  kw_max_min                     39644 non-null  float64\n",
            " 21  kw_avg_min                     39644 non-null  float64\n",
            " 22  kw_min_max                     39644 non-null  float64\n",
            " 23  kw_max_max                     39644 non-null  float64\n",
            " 24  kw_avg_max                     39644 non-null  float64\n",
            " 25  kw_min_avg                     39644 non-null  float64\n",
            " 26  kw_max_avg                     39644 non-null  float64\n",
            " 27  kw_avg_avg                     39644 non-null  float64\n",
            " 28  self_reference_min_shares      39644 non-null  float64\n",
            " 29  self_reference_max_shares      39644 non-null  float64\n",
            " 30  self_reference_avg_sharess     39644 non-null  float64\n",
            " 31  weekday_is_monday              39644 non-null  float64\n",
            " 32  weekday_is_tuesday             39644 non-null  float64\n",
            " 33  weekday_is_wednesday           39644 non-null  float64\n",
            " 34  weekday_is_thursday            39644 non-null  float64\n",
            " 35  weekday_is_friday              39644 non-null  float64\n",
            " 36  weekday_is_saturday            39644 non-null  float64\n",
            " 37  weekday_is_sunday              39644 non-null  float64\n",
            " 38  is_weekend                     39644 non-null  float64\n",
            " 39  LDA_00                         39644 non-null  float64\n",
            " 40  LDA_01                         39644 non-null  float64\n",
            " 41  LDA_02                         39644 non-null  float64\n",
            " 42  LDA_03                         39644 non-null  float64\n",
            " 43  LDA_04                         39644 non-null  float64\n",
            " 44  global_subjectivity            39644 non-null  float64\n",
            " 45  global_sentiment_polarity      39644 non-null  float64\n",
            " 46  global_rate_positive_words     39644 non-null  float64\n",
            " 47  global_rate_negative_words     39644 non-null  float64\n",
            " 48  rate_positive_words            39644 non-null  float64\n",
            " 49  rate_negative_words            39644 non-null  float64\n",
            " 50  avg_positive_polarity          39644 non-null  float64\n",
            " 51  min_positive_polarity          39644 non-null  float64\n",
            " 52  max_positive_polarity          39644 non-null  float64\n",
            " 53  avg_negative_polarity          39644 non-null  float64\n",
            " 54  min_negative_polarity          39644 non-null  float64\n",
            " 55  max_negative_polarity          39644 non-null  float64\n",
            " 56  title_subjectivity             39644 non-null  float64\n",
            " 57  title_sentiment_polarity       39644 non-null  float64\n",
            " 58  abs_title_subjectivity         39644 non-null  float64\n",
            " 59  abs_title_sentiment_polarity   39644 non-null  float64\n",
            " 60  shares                         39644 non-null  int64  \n",
            "dtypes: float64(59), int64(1), object(1)\n",
            "memory usage: 18.5+ MB\n"
          ]
        }
      ]
    },
    {
      "cell_type": "markdown",
      "source": [
        "# Logistic Regression"
      ],
      "metadata": {
        "id": "ZmExhYGGZUo4"
      }
    },
    {
      "cell_type": "code",
      "source": [
        "import numpy as np, pandas as pd\n",
        "from google.colab import files\n",
        "from sklearn.model_selection import train_test_split, StratifiedKFold, GridSearchCV\n",
        "from sklearn.preprocessing import StandardScaler\n",
        "from sklearn.pipeline import Pipeline\n",
        "from sklearn.linear_model import LogisticRegression\n",
        "from sklearn.metrics import accuracy_score, precision_score, recall_score, f1_score, roc_auc_score, classification_report"
      ],
      "metadata": {
        "id": "6Hu71eLBZX5u"
      },
      "execution_count": null,
      "outputs": []
    },
    {
      "cell_type": "markdown",
      "source": [
        "In the same online-news dataset used by the paper, I built a Logistic Regression classifier to predict article popularity. Unlike tree ensembles, LR models the log-odds of popularity as a linear function of features, passed through a sigmoid to produce probabilities. This makes it a strong, interpretable baseline and lets us see which features push popularity up or down."
      ],
      "metadata": {
        "id": "UBdLpWn3JWC6"
      }
    },
    {
      "cell_type": "code",
      "source": [
        "# this defines the target\n",
        "# we call an article \"popular\" if its shares are greater or equal to median\n",
        "median_shares = df[\"shares\"].median()\n",
        "df[\"popular\"] = (df[\"shares\"] >= median_shares).astype(int)"
      ],
      "metadata": {
        "id": "EGXD7Oe5B36w"
      },
      "execution_count": null,
      "outputs": []
    },
    {
      "cell_type": "code",
      "source": [
        "# separate features and target\n",
        "# so drop columns that shouldn't be used for training\n",
        "drop_cols = {\"url\", \"timedelta\", \"shares\", \"popular\"}\n",
        "feature_cols = [c for c in df.columns if c not in drop_cols]\n",
        "X = df[feature_cols].astype(np.float32)\n",
        "y = df[\"popular\"].values"
      ],
      "metadata": {
        "id": "p7fbWP1xCEo4"
      },
      "execution_count": null,
      "outputs": []
    },
    {
      "cell_type": "markdown",
      "source": [
        "**Preprocessing**\n",
        "\n",
        "I followed standard LR best practices.\n",
        "\n",
        "- Removed non-predictive fields: url, timedelta, the raw shares, and the derived target.\n",
        "\n",
        "- Created a binary target popular (1 if shares ≥ dataset median, else 0).\n",
        "\n",
        "- Split data 80/20 with stratification to preserve class balance.\n",
        "\n",
        "- Used a Pipeline with StandardScaler (LR assumes features are on comparable scales)."
      ],
      "metadata": {
        "id": "gZ9H8ZTpJfGm"
      }
    },
    {
      "cell_type": "code",
      "source": [
        "# split into train (80%) and test (20%) while keeping class balance the same\n",
        "X_train, X_test, y_train, y_test = train_test_split(\n",
        "    X, y, test_size=0.2, stratify=y, random_state=42\n",
        ")"
      ],
      "metadata": {
        "id": "LNLAmWTnCUqZ"
      },
      "execution_count": null,
      "outputs": []
    },
    {
      "cell_type": "code",
      "source": [
        "# build a pipeline\n",
        "# StandardScaler: scale features so logistic regression behaves better\n",
        "# LogisticRegression: the classifier itself\n",
        "pipe = Pipeline([\n",
        "    (\"scaler\", StandardScaler()),\n",
        "    (\"clf\", LogisticRegression(\n",
        "        solver=\"liblinear\",\n",
        "        penalty=\"l2\",\n",
        "        max_iter=2000,\n",
        "        random_state=42\n",
        "    ))\n",
        "])"
      ],
      "metadata": {
        "id": "GTfzwzGBC3SW"
      },
      "execution_count": null,
      "outputs": []
    },
    {
      "cell_type": "markdown",
      "source": [
        "**Building the model**\n",
        "\n",
        "To keep training fast and reproducible, I tuned a compact grid over the regularization strength C while fixing L2 penalty and the liblinear solver. Cross-validation used StratifiedKFold(5) and F1 as the scoring metric to balance precision/recall on the slightly imbalanced classes. The search selected C = 100.0 (lighter regularization)."
      ],
      "metadata": {
        "id": "_0cY7qT-Jwqz"
      }
    },
    {
      "cell_type": "code",
      "source": [
        "# set the hyperparameter grid, only tune C\n",
        "# smaller C = stronger regularization, larger C = weaker regularization\n",
        "param_grid = {\n",
        "    \"clf__C\": np.logspace(-2, 2, 6)\n",
        "}"
      ],
      "metadata": {
        "id": "e2LIgotkC-P4"
      },
      "execution_count": null,
      "outputs": []
    },
    {
      "cell_type": "code",
      "source": [
        "# cross-validation setup: 5-fold stratified\n",
        "cv = StratifiedKFold(n_splits=5, shuffle=True, random_state=42)"
      ],
      "metadata": {
        "id": "Lsu0c6q5DKXq"
      },
      "execution_count": null,
      "outputs": []
    },
    {
      "cell_type": "code",
      "source": [
        "# use grid search torain models with different C values and pick the best based on F1 score\n",
        "grid = GridSearchCV(\n",
        "    estimator=pipe,\n",
        "    param_grid=param_grid,\n",
        "    scoring=\"f1\",\n",
        "    cv=cv,\n",
        "    n_jobs=-1,\n",
        "    refit=True,\n",
        "    verbose=0,\n",
        "    pre_dispatch=\"2*n_jobs\"\n",
        ")"
      ],
      "metadata": {
        "id": "7zUMsU7SDT_y"
      },
      "execution_count": null,
      "outputs": []
    },
    {
      "cell_type": "code",
      "source": [
        "# fit the model\n",
        "grid.fit(X_train, y_train)\n",
        "best_model = grid.best_estimator_"
      ],
      "metadata": {
        "id": "T3KGe_p1Df6C"
      },
      "execution_count": null,
      "outputs": []
    },
    {
      "cell_type": "code",
      "source": [
        "# evaluation\n",
        "# predict probabilities and then classify with threshold = 0.5\n",
        "y_prob = best_model.predict_proba(X_test)[:, 1]\n",
        "y_pred = (y_prob >= 0.5).astype(int)"
      ],
      "metadata": {
        "id": "daizati-DloQ"
      },
      "execution_count": null,
      "outputs": []
    },
    {
      "cell_type": "code",
      "source": [
        "y_pred_lr = y_pred"
      ],
      "metadata": {
        "id": "3ujzYccrwuvc"
      },
      "execution_count": null,
      "outputs": []
    },
    {
      "cell_type": "markdown",
      "source": [
        "**Evaluation metrics and results**\n",
        "\n",
        "On the held-out test set, LR achieved:\n",
        "\n",
        "Accuracy: 0.657\n",
        "\n",
        "Precision: 0.671\n",
        "\n",
        "Recall: 0.700\n",
        "\n",
        "F1: 0.685\n",
        "\n",
        "ROC-AUC: 0.708\n",
        "\n",
        "The confusion matrix shows slightly higher sensitivity to the “popular” class (good recall), consistent with the business goal of catching likely hits. LR’s ROC-AUC ≈ 0.71 is comparable to KNN and close to Random Forest, while remaining much more interpretable."
      ],
      "metadata": {
        "id": "mBi5WRL5KGzQ"
      }
    },
    {
      "cell_type": "code",
      "source": [
        "# print metrics\n",
        "print(\"Best params:\", grid.best_params_)\n",
        "print(f\"Accuracy : {accuracy_score(y_test, y_pred):.4f}\")\n",
        "print(f\"Precision: {precision_score(y_test, y_pred):.4f}\")\n",
        "print(f\"Recall   : {recall_score(y_test, y_pred):.4f}\")\n",
        "print(f\"F1-score : {f1_score(y_test, y_pred):.4f}\")\n",
        "print(f\"ROC-AUC  : {roc_auc_score(y_test, y_prob):.4f}\\n\")\n",
        "print(classification_report(y_test, y_pred, digits=4))"
      ],
      "metadata": {
        "colab": {
          "base_uri": "https://localhost:8080/"
        },
        "id": "NGngaa8NDzJ1",
        "outputId": "c921ed7b-4133-4bec-c78d-9bdc6493b3eb"
      },
      "execution_count": null,
      "outputs": [
        {
          "output_type": "stream",
          "name": "stdout",
          "text": [
            "Best params: {'clf__C': np.float64(100.0)}\n",
            "Accuracy : 0.6567\n",
            "Precision: 0.6709\n",
            "Recall   : 0.7001\n",
            "F1-score : 0.6852\n",
            "ROC-AUC  : 0.7075\n",
            "\n",
            "              precision    recall  f1-score   support\n",
            "\n",
            "           0     0.6389    0.6071    0.6226      3698\n",
            "           1     0.6709    0.7001    0.6852      4231\n",
            "\n",
            "    accuracy                         0.6567      7929\n",
            "   macro avg     0.6549    0.6536    0.6539      7929\n",
            "weighted avg     0.6560    0.6567    0.6560      7929\n",
            "\n"
          ]
        }
      ]
    },
    {
      "cell_type": "code",
      "source": [
        "# display confusion matrix\n",
        "from sklearn.metrics import ConfusionMatrixDisplay\n",
        "import matplotlib.pyplot as plt\n",
        "\n",
        "ConfusionMatrixDisplay.from_predictions(y_test, y_pred, cmap=\"Blues\")\n",
        "plt.title(\"Logistic Regression: Confusion Matrix\")\n",
        "plt.show()"
      ],
      "metadata": {
        "colab": {
          "base_uri": "https://localhost:8080/",
          "height": 480
        },
        "id": "O1WVMVfqJ5zz",
        "outputId": "0da165d8-826f-4795-9f14-6542056073df"
      },
      "execution_count": null,
      "outputs": [
        {
          "output_type": "display_data",
          "data": {
            "text/plain": [
              "<Figure size 640x480 with 2 Axes>"
            ],
            "image/png": "[encoded data removed]"
          },
          "metadata": {}
        }
      ]
    },
    {
      "cell_type": "code",
      "source": [
        "# extract coefficients from logistic regression to represent feature importance\n",
        "lr = best_model.named_steps[\"clf\"]\n",
        "coefs = lr.coef_.ravel()"
      ],
      "metadata": {
        "id": "K_dwVOQJD44u"
      },
      "execution_count": null,
      "outputs": []
    },
    {
      "cell_type": "code",
      "source": [
        "# create a dataframe for easy sorting and display\n",
        "coef_df = pd.DataFrame({\"feature\": feature_cols, \"coef\": coefs, \"abs_coef\": np.abs(coefs)}).sort_values(\"abs_coef\", ascending=False)"
      ],
      "metadata": {
        "id": "vb8b3sFLEmCl"
      },
      "execution_count": null,
      "outputs": []
    },
    {
      "cell_type": "code",
      "source": [
        "# show the most influential features by absolute coefficient size\n",
        "print(\"\\nTop 12 |coef|:\\n\", coef_df.head(12).to_string(index=False))\n",
        "\n",
        "# show features that strongly increase probability of popularity\n",
        "print(\"\\nTop + drivers:\\n\", coef_df.sort_values(\"coef\", ascending=False).head(8)[[\"feature\",\"coef\"]].to_string(index=False))\n",
        "\n",
        "# show features that strongly decrease probability of popularity\n",
        "print(\"\\nTop - drivers:\\n\", coef_df.sort_values(\"coef\").head(8)[[\"feature\",\"coef\"]].to_string(index=False))"
      ],
      "metadata": {
        "colab": {
          "base_uri": "https://localhost:8080/"
        },
        "id": "j24-QiEmFC3o",
        "outputId": "1f9d2e94-8f51-43c0-c889-1debc3d54322"
      },
      "execution_count": null,
      "outputs": [
        {
          "output_type": "stream",
          "name": "stdout",
          "text": [
            "\n",
            "Top 12 |coef|:\n",
            "                  feature      coef  abs_coef\n",
            "n_non_stop_unique_tokens -2.444442  2.444442\n",
            "        n_non_stop_words  2.359590  2.359590\n",
            "              kw_avg_avg  0.967177  0.967177\n",
            "              kw_max_avg -0.578277  0.578277\n",
            "    data_channel_is_tech  0.202664  0.202664\n",
            "                  LDA_00  0.197167  0.197167\n",
            "  data_channel_is_socmed  0.192871  0.192871\n",
            "              kw_avg_min -0.152345  0.152345\n",
            "              is_weekend  0.142752  0.142752\n",
            "              kw_max_min  0.139572  0.139572\n",
            "                  LDA_02 -0.138449  0.138449\n",
            "              kw_min_min  0.137501  0.137501\n",
            "\n",
            "Top + drivers:\n",
            "                feature     coef\n",
            "      n_non_stop_words 2.359590\n",
            "            kw_avg_avg 0.967177\n",
            "  data_channel_is_tech 0.202664\n",
            "                LDA_00 0.197167\n",
            "data_channel_is_socmed 0.192871\n",
            "            is_weekend 0.142752\n",
            "            kw_max_min 0.139572\n",
            "            kw_min_min 0.137501\n",
            "\n",
            "Top - drivers:\n",
            "                       feature      coef\n",
            "     n_non_stop_unique_tokens -2.444442\n",
            "                   kw_max_avg -0.578277\n",
            "                   kw_avg_min -0.152345\n",
            "                       LDA_02 -0.138449\n",
            "         average_token_length -0.127133\n",
            "data_channel_is_entertainment -0.112287\n",
            "                   kw_min_avg -0.104482\n",
            "   global_rate_positive_words -0.092168\n"
          ]
        }
      ]
    },
    {
      "cell_type": "markdown",
      "source": [
        "**What the model learned**\n",
        "\n",
        "Standardized coefficients highlight drivers:\n",
        "\n",
        "- Positive (increase odds of popularity): more non-stop words, higher average keyword weight, weekend publishing, tech/social-media channels.\n",
        "\n",
        "- Negative (decrease odds): high ratio of unique tokens (more unusual wording), very large max keyword weight (over-focused topics).\n",
        "\n",
        "These align with intuition: clearer, denser language and topical relevance help; overly rare wording or overly concentrated keywords can hurt broad appeal."
      ],
      "metadata": {
        "id": "ZTpRcW2VKbsc"
      }
    },
    {
      "cell_type": "markdown",
      "source": [
        "**Advantages**\n",
        "\n",
        "- Interpretability: clear feature-level signals for editors/SEO teams.\n",
        "\n",
        "- Speed and simplicity: quick to train/tune, easy to maintain.\n",
        "\n",
        "- Calibrated probabilities: useful for thresholding decisions (e.g., promote if P(popular) ≥ 0.6).\n",
        "\n",
        "Trade-off: LR won’t capture complex non-linear interactions as well as Random Forest, but offers transparency the ensembles lack."
      ],
      "metadata": {
        "id": "mXcFFIvlKiv_"
      }
    },
    {
      "cell_type": "markdown",
      "source": [
        "**Deployment**\n",
        "\n",
        "Embed the trained Pipeline behind an API or inside the CMS to score drafts pre-publish. Use a business threshold tuned to costs (e.g., prioritize recall if missing a hit is expensive). Track lift in CTR/shares vs. baseline editorial picks. Refresh the model on a rolling schedule (e.g., weekly/monthly) to adapt to shifting topics. For better accuracy, log early engagement signals, author history, and social trend features for retraining."
      ],
      "metadata": {
        "id": "-gRnPSgTKp9e"
      }
    },
    {
      "cell_type": "markdown",
      "source": [
        "# KNN Classification"
      ],
      "metadata": {
        "id": "J7GgIV-vZYSu"
      }
    },
    {
      "cell_type": "code",
      "source": [
        "from sklearn.neighbors import KNeighborsClassifier\n",
        "from sklearn.preprocessing import StandardScaler\n",
        "from sklearn.model_selection import train_test_split, GridSearchCV\n",
        "from sklearn.pipeline import Pipeline\n",
        "from sklearn.metrics import roc_auc_score, accuracy_score, precision_score, recall_score, f1_score, classification_report, confusion_matrix"
      ],
      "metadata": {
        "id": "Zom35bWSoDiZ"
      },
      "execution_count": null,
      "outputs": []
    },
    {
      "cell_type": "code",
      "source": [
        "popular_threshold = 1400 # Defines treshold for what constitutes a popular article\n",
        "df['is_popular'] = (df['shares'] >= popular_threshold).astype(int) # Creates binary target column: 1 if shares is above treshold\n",
        "\n",
        "df = df.sort_values('timedelta').reset_index(drop=True) # Sorts rows by publication time"
      ],
      "metadata": {
        "id": "yUqsvuz-X4xC"
      },
      "execution_count": null,
      "outputs": []
    },
    {
      "cell_type": "code",
      "source": [
        "drop_columns = [\"url\", \"shares\", \"is_popular\"] # Columns to remove - non-features and target column\n",
        "X = df.drop(drop_columns, axis=1) # Feature set\n",
        "y = df['is_popular'].values # Target array"
      ],
      "metadata": {
        "id": "LiNLUW9CX7HW"
      },
      "execution_count": null,
      "outputs": []
    },
    {
      "cell_type": "code",
      "source": [
        "# The below splits the data into 80-20 set, maintaining class balance and reproducibility\n",
        "X_train, X_test, y_train, y_test = train_test_split(X, y, test_size=0.2, stratify=y, random_state=42)"
      ],
      "metadata": {
        "id": "VLTRtQlqX-i7"
      },
      "execution_count": null,
      "outputs": []
    },
    {
      "cell_type": "code",
      "source": [
        "pipe = Pipeline(steps=[\n",
        "    ('scaler', StandardScaler()), # Standardizes features for equal weight in distance\n",
        "     ('knn', KNeighborsClassifier()) # Applies KNN classifier on scaled data\n",
        "])"
      ],
      "metadata": {
        "id": "oB8nKWEyYBVk"
      },
      "execution_count": null,
      "outputs": []
    },
    {
      "cell_type": "code",
      "source": [
        "# The below define hyperparameters for GridSearchCV to test when tuning KNN model\n",
        "param_grid = {\n",
        "    'knn__n_neighbors': [3, 5, 7, 11, 15], # Number of neighbors (from more sensitive to more smooth)\n",
        "    'knn__weights': ['uniform', 'distance'], # Weights\n",
        "    'knn__p': [1, 2] # Distance metric: 1=Manhattan, 2=Eucilidean\n",
        "} # 20 models total"
      ],
      "metadata": {
        "id": "2OeczEANYDpK"
      },
      "execution_count": null,
      "outputs": []
    },
    {
      "cell_type": "code",
      "source": [
        "# The below creates a grid search object for below grid.fit()\n",
        "grid = GridSearchCV(\n",
        "    estimator=pipe, # Specifies model to tune\n",
        "    param_grid=param_grid, # Specifies hyperparameters dictionary\n",
        "    scoring='f1', # Primary model selection metric\n",
        "    cv=5, # 5-fold CV on the training set\n",
        "    n_jobs=-1, # Parallizes all CPU cores to speed up grid search\n",
        ")"
      ],
      "metadata": {
        "id": "925McWPxYFue"
      },
      "execution_count": null,
      "outputs": []
    },
    {
      "cell_type": "code",
      "source": [
        "grid.fit(X_train, y_train) # Trains KNN models"
      ],
      "metadata": {
        "colab": {
          "base_uri": "https://localhost:8080/",
          "height": 190
        },
        "id": "PSpXm59UYHdn",
        "outputId": "3d60aed0-f1cb-4920-8686-afbe466357b1"
      },
      "execution_count": null,
      "outputs": [
        {
          "output_type": "execute_result",
          "data": {
            "text/plain": [
              "GridSearchCV(cv=5,\n",
              "             estimator=Pipeline(steps=[('scaler', StandardScaler()),\n",
              "                                       ('knn', KNeighborsClassifier())]),\n",
              "             n_jobs=-1,\n",
              "             param_grid={'knn__n_neighbors': [3, 5, 7, 11, 15],\n",
              "                         'knn__p': [1, 2],\n",
              "                         'knn__weights': ['uniform', 'distance']},\n",
              "             scoring='f1')"
            ],
            "text/html": [
              "<style>#sk-container-id-2 {\n",
              "  /* Definition of color scheme common for light and dark mode */\n",
              "  --sklearn-color-text: #000;\n",
              "  --sklearn-color-text-muted: #666;\n",
              "  --sklearn-color-line: gray;\n",
              "  /* Definition of color scheme for unfitted estimators */\n",
              "  --sklearn-color-unfitted-level-0: #fff5e6;\n",
              "  --sklearn-color-unfitted-level-1: #f6e4d2;\n",
              "  --sklearn-color-unfitted-level-2: #ffe0b3;\n",
              "  --sklearn-color-unfitted-level-3: chocolate;\n",
              "  /* Definition of color scheme for fitted estimators */\n",
              "  --sklearn-color-fitted-level-0: #f0f8ff;\n",
              "  --sklearn-color-fitted-level-1: #d4ebff;\n",
              "  --sklearn-color-fitted-level-2: #b3dbfd;\n",
              "  --sklearn-color-fitted-level-3: cornflowerblue;\n",
              "\n",
              "  /* Specific color for light theme */\n",
              "  --sklearn-color-text-on-default-background: var(--sg-text-color, var(--theme-code-foreground, var(--jp-content-font-color1, black)));\n",
              "  --sklearn-color-background: var(--sg-background-color, var(--theme-background, var(--jp-layout-color0, white)));\n",
              "  --sklearn-color-border-box: var(--sg-text-color, var(--theme-code-foreground, var(--jp-content-font-color1, black)));\n",
              "  --sklearn-color-icon: #696969;\n",
              "\n",
              "  @media (prefers-color-scheme: dark) {\n",
              "    /* Redefinition of color scheme for dark theme */\n",
              "    --sklearn-color-text-on-default-background: var(--sg-text-color, var(--theme-code-foreground, var(--jp-content-font-color1, white)));\n",
              "    --sklearn-color-background: var(--sg-background-color, var(--theme-background, var(--jp-layout-color0, #111)));\n",
              "    --sklearn-color-border-box: var(--sg-text-color, var(--theme-code-foreground, var(--jp-content-font-color1, white)));\n",
              "    --sklearn-color-icon: #878787;\n",
              "  }\n",
              "}\n",
              "\n",
              "#sk-container-id-2 {\n",
              "  color: var(--sklearn-color-text);\n",
              "}\n",
              "\n",
              "#sk-container-id-2 pre {\n",
              "  padding: 0;\n",
              "}\n",
              "\n",
              "#sk-container-id-2 input.sk-hidden--visually {\n",
              "  border: 0;\n",
              "  clip: rect(1px 1px 1px 1px);\n",
              "  clip: rect(1px, 1px, 1px, 1px);\n",
              "  height: 1px;\n",
              "  margin: -1px;\n",
              "  overflow: hidden;\n",
              "  padding: 0;\n",
              "  position: absolute;\n",
              "  width: 1px;\n",
              "}\n",
              "\n",
              "#sk-container-id-2 div.sk-dashed-wrapped {\n",
              "  border: 1px dashed var(--sklearn-color-line);\n",
              "  margin: 0 0.4em 0.5em 0.4em;\n",
              "  box-sizing: border-box;\n",
              "  padding-bottom: 0.4em;\n",
              "  background-color: var(--sklearn-color-background);\n",
              "}\n",
              "\n",
              "#sk-container-id-2 div.sk-container {\n",
              "  /* jupyter's `normalize.less` sets `[hidden] { display: none; }`\n",
              "     but bootstrap.min.css set `[hidden] { display: none !important; }`\n",
              "     so we also need the `!important` here to be able to override the\n",
              "     default hidden behavior on the sphinx rendered scikit-learn.org.\n",
              "     See: https://github.com/scikit-learn/scikit-learn/issues/21755 */\n",
              "  display: inline-block !important;\n",
              "  position: relative;\n",
              "}\n",
              "\n",
              "#sk-container-id-2 div.sk-text-repr-fallback {\n",
              "  display: none;\n",
              "}\n",
              "\n",
              "div.sk-parallel-item,\n",
              "div.sk-serial,\n",
              "div.sk-item {\n",
              "  /* draw centered vertical line to link estimators */\n",
              "  background-image: linear-gradient(var(--sklearn-color-text-on-default-background), var(--sklearn-color-text-on-default-background));\n",
              "  background-size: 2px 100%;\n",
              "  background-repeat: no-repeat;\n",
              "  background-position: center center;\n",
              "}\n",
              "\n",
              "/* Parallel-specific style estimator block */\n",
              "\n",
              "#sk-container-id-2 div.sk-parallel-item::after {\n",
              "  content: \"\";\n",
              "  width: 100%;\n",
              "  border-bottom: 2px solid var(--sklearn-color-text-on-default-background);\n",
              "  flex-grow: 1;\n",
              "}\n",
              "\n",
              "#sk-container-id-2 div.sk-parallel {\n",
              "  display: flex;\n",
              "  align-items: stretch;\n",
              "  justify-content: center;\n",
              "  background-color: var(--sklearn-color-background);\n",
              "  position: relative;\n",
              "}\n",
              "\n",
              "#sk-container-id-2 div.sk-parallel-item {\n",
              "  display: flex;\n",
              "  flex-direction: column;\n",
              "}\n",
              "\n",
              "#sk-container-id-2 div.sk-parallel-item:first-child::after {\n",
              "  align-self: flex-end;\n",
              "  width: 50%;\n",
              "}\n",
              "\n",
              "#sk-container-id-2 div.sk-parallel-item:last-child::after {\n",
              "  align-self: flex-start;\n",
              "  width: 50%;\n",
              "}\n",
              "\n",
              "#sk-container-id-2 div.sk-parallel-item:only-child::after {\n",
              "  width: 0;\n",
              "}\n",
              "\n",
              "/* Serial-specific style estimator block */\n",
              "\n",
              "#sk-container-id-2 div.sk-serial {\n",
              "  display: flex;\n",
              "  flex-direction: column;\n",
              "  align-items: center;\n",
              "  background-color: var(--sklearn-color-background);\n",
              "  padding-right: 1em;\n",
              "  padding-left: 1em;\n",
              "}\n",
              "\n",
              "\n",
              "/* Toggleable style: style used for estimator/Pipeline/ColumnTransformer box that is\n",
              "clickable and can be expanded/collapsed.\n",
              "- Pipeline and ColumnTransformer use this feature and define the default style\n",
              "- Estimators will overwrite some part of the style using the `sk-estimator` class\n",
              "*/\n",
              "\n",
              "/* Pipeline and ColumnTransformer style (default) */\n",
              "\n",
              "#sk-container-id-2 div.sk-toggleable {\n",
              "  /* Default theme specific background. It is overwritten whether we have a\n",
              "  specific estimator or a Pipeline/ColumnTransformer */\n",
              "  background-color: var(--sklearn-color-background);\n",
              "}\n",
              "\n",
              "/* Toggleable label */\n",
              "#sk-container-id-2 label.sk-toggleable__label {\n",
              "  cursor: pointer;\n",
              "  display: flex;\n",
              "  width: 100%;\n",
              "  margin-bottom: 0;\n",
              "  padding: 0.5em;\n",
              "  box-sizing: border-box;\n",
              "  text-align: center;\n",
              "  align-items: start;\n",
              "  justify-content: space-between;\n",
              "  gap: 0.5em;\n",
              "}\n",
              "\n",
              "#sk-container-id-2 label.sk-toggleable__label .caption {\n",
              "  font-size: 0.6rem;\n",
              "  font-weight: lighter;\n",
              "  color: var(--sklearn-color-text-muted);\n",
              "}\n",
              "\n",
              "#sk-container-id-2 label.sk-toggleable__label-arrow:before {\n",
              "  /* Arrow on the left of the label */\n",
              "  content: \"▸\";\n",
              "  float: left;\n",
              "  margin-right: 0.25em;\n",
              "  color: var(--sklearn-color-icon);\n",
              "}\n",
              "\n",
              "#sk-container-id-2 label.sk-toggleable__label-arrow:hover:before {\n",
              "  color: var(--sklearn-color-text);\n",
              "}\n",
              "\n",
              "/* Toggleable content - dropdown */\n",
              "\n",
              "#sk-container-id-2 div.sk-toggleable__content {\n",
              "  max-height: 0;\n",
              "  max-width: 0;\n",
              "  overflow: hidden;\n",
              "  text-align: left;\n",
              "  /* unfitted */\n",
              "  background-color: var(--sklearn-color-unfitted-level-0);\n",
              "}\n",
              "\n",
              "#sk-container-id-2 div.sk-toggleable__content.fitted {\n",
              "  /* fitted */\n",
              "  background-color: var(--sklearn-color-fitted-level-0);\n",
              "}\n",
              "\n",
              "#sk-container-id-2 div.sk-toggleable__content pre {\n",
              "  margin: 0.2em;\n",
              "  border-radius: 0.25em;\n",
              "  color: var(--sklearn-color-text);\n",
              "  /* unfitted */\n",
              "  background-color: var(--sklearn-color-unfitted-level-0);\n",
              "}\n",
              "\n",
              "#sk-container-id-2 div.sk-toggleable__content.fitted pre {\n",
              "  /* unfitted */\n",
              "  background-color: var(--sklearn-color-fitted-level-0);\n",
              "}\n",
              "\n",
              "#sk-container-id-2 input.sk-toggleable__control:checked~div.sk-toggleable__content {\n",
              "  /* Expand drop-down */\n",
              "  max-height: 200px;\n",
              "  max-width: 100%;\n",
              "  overflow: auto;\n",
              "}\n",
              "\n",
              "#sk-container-id-2 input.sk-toggleable__control:checked~label.sk-toggleable__label-arrow:before {\n",
              "  content: \"▾\";\n",
              "}\n",
              "\n",
              "/* Pipeline/ColumnTransformer-specific style */\n",
              "\n",
              "#sk-container-id-2 div.sk-label input.sk-toggleable__control:checked~label.sk-toggleable__label {\n",
              "  color: var(--sklearn-color-text);\n",
              "  background-color: var(--sklearn-color-unfitted-level-2);\n",
              "}\n",
              "\n",
              "#sk-container-id-2 div.sk-label.fitted input.sk-toggleable__control:checked~label.sk-toggleable__label {\n",
              "  background-color: var(--sklearn-color-fitted-level-2);\n",
              "}\n",
              "\n",
              "/* Estimator-specific style */\n",
              "\n",
              "/* Colorize estimator box */\n",
              "#sk-container-id-2 div.sk-estimator input.sk-toggleable__control:checked~label.sk-toggleable__label {\n",
              "  /* unfitted */\n",
              "  background-color: var(--sklearn-color-unfitted-level-2);\n",
              "}\n",
              "\n",
              "#sk-container-id-2 div.sk-estimator.fitted input.sk-toggleable__control:checked~label.sk-toggleable__label {\n",
              "  /* fitted */\n",
              "  background-color: var(--sklearn-color-fitted-level-2);\n",
              "}\n",
              "\n",
              "#sk-container-id-2 div.sk-label label.sk-toggleable__label,\n",
              "#sk-container-id-2 div.sk-label label {\n",
              "  /* The background is the default theme color */\n",
              "  color: var(--sklearn-color-text-on-default-background);\n",
              "}\n",
              "\n",
              "/* On hover, darken the color of the background */\n",
              "#sk-container-id-2 div.sk-label:hover label.sk-toggleable__label {\n",
              "  color: var(--sklearn-color-text);\n",
              "  background-color: var(--sklearn-color-unfitted-level-2);\n",
              "}\n",
              "\n",
              "/* Label box, darken color on hover, fitted */\n",
              "#sk-container-id-2 div.sk-label.fitted:hover label.sk-toggleable__label.fitted {\n",
              "  color: var(--sklearn-color-text);\n",
              "  background-color: var(--sklearn-color-fitted-level-2);\n",
              "}\n",
              "\n",
              "/* Estimator label */\n",
              "\n",
              "#sk-container-id-2 div.sk-label label {\n",
              "  font-family: monospace;\n",
              "  font-weight: bold;\n",
              "  display: inline-block;\n",
              "  line-height: 1.2em;\n",
              "}\n",
              "\n",
              "#sk-container-id-2 div.sk-label-container {\n",
              "  text-align: center;\n",
              "}\n",
              "\n",
              "/* Estimator-specific */\n",
              "#sk-container-id-2 div.sk-estimator {\n",
              "  font-family: monospace;\n",
              "  border: 1px dotted var(--sklearn-color-border-box);\n",
              "  border-radius: 0.25em;\n",
              "  box-sizing: border-box;\n",
              "  margin-bottom: 0.5em;\n",
              "  /* unfitted */\n",
              "  background-color: var(--sklearn-color-unfitted-level-0);\n",
              "}\n",
              "\n",
              "#sk-container-id-2 div.sk-estimator.fitted {\n",
              "  /* fitted */\n",
              "  background-color: var(--sklearn-color-fitted-level-0);\n",
              "}\n",
              "\n",
              "/* on hover */\n",
              "#sk-container-id-2 div.sk-estimator:hover {\n",
              "  /* unfitted */\n",
              "  background-color: var(--sklearn-color-unfitted-level-2);\n",
              "}\n",
              "\n",
              "#sk-container-id-2 div.sk-estimator.fitted:hover {\n",
              "  /* fitted */\n",
              "  background-color: var(--sklearn-color-fitted-level-2);\n",
              "}\n",
              "\n",
              "/* Specification for estimator info (e.g. \"i\" and \"?\") */\n",
              "\n",
              "/* Common style for \"i\" and \"?\" */\n",
              "\n",
              ".sk-estimator-doc-link,\n",
              "a:link.sk-estimator-doc-link,\n",
              "a:visited.sk-estimator-doc-link {\n",
              "  float: right;\n",
              "  font-size: smaller;\n",
              "  line-height: 1em;\n",
              "  font-family: monospace;\n",
              "  background-color: var(--sklearn-color-background);\n",
              "  border-radius: 1em;\n",
              "  height: 1em;\n",
              "  width: 1em;\n",
              "  text-decoration: none !important;\n",
              "  margin-left: 0.5em;\n",
              "  text-align: center;\n",
              "  /* unfitted */\n",
              "  border: var(--sklearn-color-unfitted-level-1) 1pt solid;\n",
              "  color: var(--sklearn-color-unfitted-level-1);\n",
              "}\n",
              "\n",
              ".sk-estimator-doc-link.fitted,\n",
              "a:link.sk-estimator-doc-link.fitted,\n",
              "a:visited.sk-estimator-doc-link.fitted {\n",
              "  /* fitted */\n",
              "  border: var(--sklearn-color-fitted-level-1) 1pt solid;\n",
              "  color: var(--sklearn-color-fitted-level-1);\n",
              "}\n",
              "\n",
              "/* On hover */\n",
              "div.sk-estimator:hover .sk-estimator-doc-link:hover,\n",
              ".sk-estimator-doc-link:hover,\n",
              "div.sk-label-container:hover .sk-estimator-doc-link:hover,\n",
              ".sk-estimator-doc-link:hover {\n",
              "  /* unfitted */\n",
              "  background-color: var(--sklearn-color-unfitted-level-3);\n",
              "  color: var(--sklearn-color-background);\n",
              "  text-decoration: none;\n",
              "}\n",
              "\n",
              "div.sk-estimator.fitted:hover .sk-estimator-doc-link.fitted:hover,\n",
              ".sk-estimator-doc-link.fitted:hover,\n",
              "div.sk-label-container:hover .sk-estimator-doc-link.fitted:hover,\n",
              ".sk-estimator-doc-link.fitted:hover {\n",
              "  /* fitted */\n",
              "  background-color: var(--sklearn-color-fitted-level-3);\n",
              "  color: var(--sklearn-color-background);\n",
              "  text-decoration: none;\n",
              "}\n",
              "\n",
              "/* Span, style for the box shown on hovering the info icon */\n",
              ".sk-estimator-doc-link span {\n",
              "  display: none;\n",
              "  z-index: 9999;\n",
              "  position: relative;\n",
              "  font-weight: normal;\n",
              "  right: .2ex;\n",
              "  padding: .5ex;\n",
              "  margin: .5ex;\n",
              "  width: min-content;\n",
              "  min-width: 20ex;\n",
              "  max-width: 50ex;\n",
              "  color: var(--sklearn-color-text);\n",
              "  box-shadow: 2pt 2pt 4pt #999;\n",
              "  /* unfitted */\n",
              "  background: var(--sklearn-color-unfitted-level-0);\n",
              "  border: .5pt solid var(--sklearn-color-unfitted-level-3);\n",
              "}\n",
              "\n",
              ".sk-estimator-doc-link.fitted span {\n",
              "  /* fitted */\n",
              "  background: var(--sklearn-color-fitted-level-0);\n",
              "  border: var(--sklearn-color-fitted-level-3);\n",
              "}\n",
              "\n",
              ".sk-estimator-doc-link:hover span {\n",
              "  display: block;\n",
              "}\n",
              "\n",
              "/* \"?\"-specific style due to the `<a>` HTML tag */\n",
              "\n",
              "#sk-container-id-2 a.estimator_doc_link {\n",
              "  float: right;\n",
              "  font-size: 1rem;\n",
              "  line-height: 1em;\n",
              "  font-family: monospace;\n",
              "  background-color: var(--sklearn-color-background);\n",
              "  border-radius: 1rem;\n",
              "  height: 1rem;\n",
              "  width: 1rem;\n",
              "  text-decoration: none;\n",
              "  /* unfitted */\n",
              "  color: var(--sklearn-color-unfitted-level-1);\n",
              "  border: var(--sklearn-color-unfitted-level-1) 1pt solid;\n",
              "}\n",
              "\n",
              "#sk-container-id-2 a.estimator_doc_link.fitted {\n",
              "  /* fitted */\n",
              "  border: var(--sklearn-color-fitted-level-1) 1pt solid;\n",
              "  color: var(--sklearn-color-fitted-level-1);\n",
              "}\n",
              "\n",
              "/* On hover */\n",
              "#sk-container-id-2 a.estimator_doc_link:hover {\n",
              "  /* unfitted */\n",
              "  background-color: var(--sklearn-color-unfitted-level-3);\n",
              "  color: var(--sklearn-color-background);\n",
              "  text-decoration: none;\n",
              "}\n",
              "\n",
              "#sk-container-id-2 a.estimator_doc_link.fitted:hover {\n",
              "  /* fitted */\n",
              "  background-color: var(--sklearn-color-fitted-level-3);\n",
              "}\n",
              "</style><div id=\"sk-container-id-2\" class=\"sk-top-container\"><div class=\"sk-text-repr-fallback\"><pre>GridSearchCV(cv=5,\n",
              "             estimator=Pipeline(steps=[(&#x27;scaler&#x27;, StandardScaler()),\n",
              "                                       (&#x27;knn&#x27;, KNeighborsClassifier())]),\n",
              "             n_jobs=-1,\n",
              "             param_grid={&#x27;knn__n_neighbors&#x27;: [3, 5, 7, 11, 15],\n",
              "                         &#x27;knn__p&#x27;: [1, 2],\n",
              "                         &#x27;knn__weights&#x27;: [&#x27;uniform&#x27;, &#x27;distance&#x27;]},\n",
              "             scoring=&#x27;f1&#x27;)</pre><b>In a Jupyter environment, please rerun this cell to show the HTML representation or trust the notebook. <br />On GitHub, the HTML representation is unable to render, please try loading this page with nbviewer.org.</b></div><div class=\"sk-container\" hidden><div class=\"sk-item sk-dashed-wrapped\"><div class=\"sk-label-container\"><div class=\"sk-label fitted sk-toggleable\"><input class=\"sk-toggleable__control sk-hidden--visually\" id=\"sk-estimator-id-5\" type=\"checkbox\" ><label for=\"sk-estimator-id-5\" class=\"sk-toggleable__label fitted sk-toggleable__label-arrow\"><div><div>GridSearchCV</div></div><div><a class=\"sk-estimator-doc-link fitted\" rel=\"noreferrer\" target=\"_blank\" href=\"https://scikit-learn.org/1.6/modules/generated/sklearn.model_selection.GridSearchCV.html\">?<span>Documentation for GridSearchCV</span></a><span class=\"sk-estimator-doc-link fitted\">i<span>Fitted</span></span></div></label><div class=\"sk-toggleable__content fitted\"><pre>GridSearchCV(cv=5,\n",
              "             estimator=Pipeline(steps=[(&#x27;scaler&#x27;, StandardScaler()),\n",
              "                                       (&#x27;knn&#x27;, KNeighborsClassifier())]),\n",
              "             n_jobs=-1,\n",
              "             param_grid={&#x27;knn__n_neighbors&#x27;: [3, 5, 7, 11, 15],\n",
              "                         &#x27;knn__p&#x27;: [1, 2],\n",
              "                         &#x27;knn__weights&#x27;: [&#x27;uniform&#x27;, &#x27;distance&#x27;]},\n",
              "             scoring=&#x27;f1&#x27;)</pre></div> </div></div><div class=\"sk-parallel\"><div class=\"sk-parallel-item\"><div class=\"sk-item\"><div class=\"sk-label-container\"><div class=\"sk-label fitted sk-toggleable\"><input class=\"sk-toggleable__control sk-hidden--visually\" id=\"sk-estimator-id-6\" type=\"checkbox\" ><label for=\"sk-estimator-id-6\" class=\"sk-toggleable__label fitted sk-toggleable__label-arrow\"><div><div>best_estimator_: Pipeline</div></div></label><div class=\"sk-toggleable__content fitted\"><pre>Pipeline(steps=[(&#x27;scaler&#x27;, StandardScaler()),\n",
              "                (&#x27;knn&#x27;,\n",
              "                 KNeighborsClassifier(n_neighbors=15, p=1,\n",
              "                                      weights=&#x27;distance&#x27;))])</pre></div> </div></div><div class=\"sk-serial\"><div class=\"sk-item\"><div class=\"sk-serial\"><div class=\"sk-item\"><div class=\"sk-estimator fitted sk-toggleable\"><input class=\"sk-toggleable__control sk-hidden--visually\" id=\"sk-estimator-id-7\" type=\"checkbox\" ><label for=\"sk-estimator-id-7\" class=\"sk-toggleable__label fitted sk-toggleable__label-arrow\"><div><div>StandardScaler</div></div><div><a class=\"sk-estimator-doc-link fitted\" rel=\"noreferrer\" target=\"_blank\" href=\"https://scikit-learn.org/1.6/modules/generated/sklearn.preprocessing.StandardScaler.html\">?<span>Documentation for StandardScaler</span></a></div></label><div class=\"sk-toggleable__content fitted\"><pre>StandardScaler()</pre></div> </div></div><div class=\"sk-item\"><div class=\"sk-estimator fitted sk-toggleable\"><input class=\"sk-toggleable__control sk-hidden--visually\" id=\"sk-estimator-id-8\" type=\"checkbox\" ><label for=\"sk-estimator-id-8\" class=\"sk-toggleable__label fitted sk-toggleable__label-arrow\"><div><div>KNeighborsClassifier</div></div><div><a class=\"sk-estimator-doc-link fitted\" rel=\"noreferrer\" target=\"_blank\" href=\"https://scikit-learn.org/1.6/modules/generated/sklearn.neighbors.KNeighborsClassifier.html\">?<span>Documentation for KNeighborsClassifier</span></a></div></label><div class=\"sk-toggleable__content fitted\"><pre>KNeighborsClassifier(n_neighbors=15, p=1, weights=&#x27;distance&#x27;)</pre></div> </div></div></div></div></div></div></div></div></div></div></div>"
            ]
          },
          "metadata": {},
          "execution_count": 67
        }
      ]
    },
    {
      "cell_type": "code",
      "source": [
        "print(\"Best KNN params:\", grid.best_params_) # What parameters performed best\n",
        "print(\"CV best F1:\", round(grid.best_score_, 4)) # How well it did on training"
      ],
      "metadata": {
        "colab": {
          "base_uri": "https://localhost:8080/"
        },
        "id": "eLJPvs1PYJPp",
        "outputId": "0b4aaa15-2795-4a96-e0e8-e2bd021e44bc"
      },
      "execution_count": null,
      "outputs": [
        {
          "output_type": "stream",
          "name": "stdout",
          "text": [
            "Best KNN params: {'knn__n_neighbors': 15, 'knn__p': 1, 'knn__weights': 'distance'}\n",
            "CV best F1: 0.9419\n"
          ]
        }
      ]
    },
    {
      "cell_type": "code",
      "source": [
        "# The below evaluates on the held-out test set\n",
        "best_model = grid.best_estimator_ # Provides pipeline with the best hyperparameters\n",
        "y_pred = best_model.predict(X_test) # Utilizes best model to predict class labels for test set\n",
        "y_prob = best_model.predict_proba(X_test)[:, 1] # Provides probability for each class"
      ],
      "metadata": {
        "id": "fazB88BgYL_K"
      },
      "execution_count": null,
      "outputs": []
    },
    {
      "cell_type": "code",
      "source": [
        "# The below evaluates the best KNN model on the test set with classification metrics\n",
        "acc = accuracy_score(y_test, y_pred)\n",
        "prec = precision_score(y_test, y_pred, zero_division=0)\n",
        "rec = recall_score(y_test, y_pred, zero_division=0)\n",
        "f1 = f1_score(y_test, y_pred, zero_division=0)\n",
        "auc = roc_auc_score(y_test, y_prob)\n",
        "\n",
        "print(\"Accuracy:\", round(acc, 4))\n",
        "print(\"Precision:\", round(prec, 4))\n",
        "print(\"Recall:\", round(rec, 4))\n",
        "print(\"F1:\", round(f1, 4))\n",
        "print(\"AUC:\", round(auc, 4)) # Measures ability to seperate popular vs non-popular classes"
      ],
      "metadata": {
        "colab": {
          "base_uri": "https://localhost:8080/"
        },
        "id": "x027zxpOYRh5",
        "outputId": "0d06021e-f206-42f5-9a93-8349a14e146a"
      },
      "execution_count": null,
      "outputs": [
        {
          "output_type": "stream",
          "name": "stdout",
          "text": [
            "Accuracy: 0.9402\n",
            "Precision: 0.9438\n",
            "Recall: 0.9442\n",
            "F1: 0.944\n",
            "AUC: 0.9856\n"
          ]
        }
      ]
    },
    {
      "cell_type": "code",
      "source": [
        "# The below creates a confusion matrix to visualize model performance\n",
        "print(\"Confusion Matrix:\\n\")\n",
        "cm = confusion_matrix(y_test, y_pred)\n",
        "\n",
        "plt.figure(figsize=(5, 5))\n",
        "sns.heatmap(cm, annot=True, fmt='d', cmap='Blues', cbar=False)\n",
        "plt.xlabel('Predicted')\n",
        "plt.ylabel('True')\n",
        "plt.show()"
      ],
      "metadata": {
        "colab": {
          "base_uri": "https://localhost:8080/",
          "height": 509
        },
        "id": "d0JOIKfCYTdA",
        "outputId": "eaf83288-1f32-4555-aace-bad3e41ace4c"
      },
      "execution_count": null,
      "outputs": [
        {
          "output_type": "stream",
          "name": "stdout",
          "text": [
            "Confusion Matrix:\n",
            "\n"
          ]
        },
        {
          "output_type": "display_data",
          "data": {
            "text/plain": [
              "<Figure size 500x500 with 1 Axes>"
            ],
            "image/png": "[encoded data removed]"
          },
          "metadata": {}
        }
      ]
    },
    {
      "cell_type": "code",
      "source": [
        "print(\"Classification Report:\")\n",
        "print(classification_report(y_test, y_pred, digits=4))"
      ],
      "metadata": {
        "colab": {
          "base_uri": "https://localhost:8080/"
        },
        "id": "LpwFRYcVYVKH",
        "outputId": "942a4eed-ed9a-4fb0-ca5e-0a6f4e87adb1"
      },
      "execution_count": null,
      "outputs": [
        {
          "output_type": "stream",
          "name": "stdout",
          "text": [
            "Classification Report:\n",
            "              precision    recall  f1-score   support\n",
            "\n",
            "           0     0.9361    0.9356    0.9359      3698\n",
            "           1     0.9438    0.9442    0.9440      4231\n",
            "\n",
            "    accuracy                         0.9402      7929\n",
            "   macro avg     0.9400    0.9399    0.9399      7929\n",
            "weighted avg     0.9402    0.9402    0.9402      7929\n",
            "\n"
          ]
        }
      ]
    },
    {
      "cell_type": "markdown",
      "source": [
        "# Random Forest\n",
        "\n",
        "In the research paper *A Proactive Intelligent Decision Support System for Predicting the Popularity of Online News*, the authors used this data to predict article popularity.  They said their best result came from the Random Forest model, so I followed their preprocessing and specifications to try to recreate their model."
      ],
      "metadata": {
        "id": "qdx81E95ZcCy"
      }
    },
    {
      "cell_type": "code",
      "source": [
        "# import model and evaluation modules\n",
        "from sklearn.ensemble import RandomForestClassifier\n",
        "from sklearn.metrics import roc_auc_score, accuracy_score, precision_score, recall_score, f1_score, classification_report\n",
        "from sklearn.model_selection import train_test_split, GridSearchCV, ShuffleSplit"
      ],
      "metadata": {
        "id": "fMBaGYrgv1Ne"
      },
      "execution_count": null,
      "outputs": []
    },
    {
      "cell_type": "markdown",
      "source": [
        "**Preprocessing**\n",
        "\n",
        "For the KNN model, we sorted the data by time, so the training set will contain earlier articles, while the test set will contain articles published later. For my predictive variables, I used all the features except for url, time published, and the two target variables.  The target is popularity (>= 1400 shares) represented as a binary variable.\n",
        "\n",
        "One thing I wanted to mention is the authors analyzed the importance of the Random Forest inputs. They found that keyword-based, Natural Language Processing, and previous shares of Mashable links were the most important features. I tried to see if I could pull the most important features within my grid search function to see if they matched what the authors found, but I was unsuccessful."
      ],
      "metadata": {
        "id": "sJ_4Icu1Z-y9"
      }
    },
    {
      "cell_type": "code",
      "source": [
        "# sort the dataframe by time published\n",
        "df = df.sort_values('timedelta').reset_index(drop=True)\n",
        "\n",
        "# create dataframe with all prediction features\n",
        "dataCols = df.drop(['url', 'timedelta', 'shares', 'is_popular'], axis=1)\n",
        "# create numPy array representing target feature\n",
        "targetCol = df['is_popular'].values"
      ],
      "metadata": {
        "id": "1M4xGyjbdEYx"
      },
      "execution_count": null,
      "outputs": []
    },
    {
      "cell_type": "markdown",
      "source": [
        "Certain variables in the dataset are unbounded, so I followed the authors by log transforming these features.  This reduces possible skewness within these features which will help the Random Forest model learn better."
      ],
      "metadata": {
        "id": "SVHYuY6RaziM"
      }
    },
    {
      "cell_type": "code",
      "source": [
        "# create list of unbounded numerical columns\n",
        "unboundedFeatures = ['n_tokens_title','n_tokens_content','num_hrefs','num_self_hrefs','num_imgs','num_videos']\n",
        "\n",
        "# log transform the listed columns\n",
        "for col in unboundedFeatures:\n",
        "    if col in dataCols.columns:\n",
        "        dataCols[col] = np.log1p(dataCols[col])\n",
        "\n",
        "# save the prediction features into a numPy array\n",
        "dataCols = dataCols.values"
      ],
      "metadata": {
        "id": "MZTbeMAMtY6_"
      },
      "execution_count": null,
      "outputs": []
    },
    {
      "cell_type": "markdown",
      "source": [
        "**Building the Model**\n",
        "\n",
        "The following function runs a grid search on a window of data to find the best estimator for the model. The range of estimators tried in the paper are [10, 20, 50, 100, 200, 400]. The metric for determining the best estimator is the model with the highest auc score. The function returns the fitted model using the best estimator as well as the best estimator.\n",
        "\n",
        "The authors used a random holdout split to split the data into training and testing sets.  They also split the data into 70% training and 30% testing.  To match their model as closely as possible, I replicated this in my train_test_split function.  I stratified the y training set to make sure the sets have about equal ratios of popular and unpopular articles.  "
      ],
      "metadata": {
        "id": "LYIzOc86Yjxc"
      }
    },
    {
      "cell_type": "code",
      "source": [
        "def gridSearch(Xsample, Ysample, random_state=0):\n",
        "    # split the sample data into 70% training and 30% testing\n",
        "    # use stratified split to make sure training and testing set have about the same ratio of popular articles\n",
        "    Xtrain, Xtest, ytrain, ytest = train_test_split(\n",
        "        Xsample, Ysample,\n",
        "        test_size=0.3,\n",
        "        stratify=Ysample,\n",
        "        random_state=random_state\n",
        "    )\n",
        "\n",
        "    # make a list of the number of estimators used in each decision tree\n",
        "    # pulled these counts from the research paper\n",
        "    treeCounts = [10, 20, 50, 100, 200, 400]\n",
        "\n",
        "    # set up param_grid\n",
        "    param_grid = {'n_estimators': treeCounts}\n",
        "\n",
        "    # create variable for random forest model\n",
        "    model = RandomForestClassifier(n_jobs=-1, random_state=random_state)\n",
        "\n",
        "    # create gridsearch\n",
        "    gs = GridSearchCV(\n",
        "        estimator=model,\n",
        "        param_grid=param_grid,\n",
        "        scoring='roc_auc',\n",
        "        cv=ShuffleSplit(n_splits=1, test_size=0.3, random_state=0),\n",
        "        n_jobs=-1,\n",
        "        refit=True\n",
        "    )\n",
        "\n",
        "    # fit only on training data\n",
        "    gs.fit(Xtrain, ytrain)\n",
        "\n",
        "    # save the estimator\n",
        "    bestTreeCount = gs.best_params_['n_estimators']\n",
        "\n",
        "    # save model with updated best tree count\n",
        "    model = RandomForestClassifier(\n",
        "        n_estimators=bestTreeCount,\n",
        "        n_jobs=-1,\n",
        "        random_state=random_state\n",
        "    )\n",
        "    # refit the model with the training data\n",
        "    model.fit(Xsample, Ysample)\n",
        "\n",
        "    return model, bestTreeCount"
      ],
      "metadata": {
        "id": "cX4MAy9zzSAb"
      },
      "execution_count": null,
      "outputs": []
    },
    {
      "cell_type": "markdown",
      "source": [
        "**Building the Model (cont.)**\n",
        "\n",
        "Here, I replicated the author's rolling windows evaluation.  They took samples of 10,000 consecutive records for the training sample and then the following 1000 consecutive articles we're used as the testing sample. This was done through the entire dataset which took a 29 iterations. I used a loop to pull a sample from the dataframe then run it through the grid search.  Using the returned model, I generated a list of predictions for that sample, then added the predictions and true values for that sample to their correpsonding lists."
      ],
      "metadata": {
        "id": "np3urjX9eVqq"
      }
    },
    {
      "cell_type": "code",
      "source": [
        "# keep a list of the evaulation metrics for each window\n",
        "sampleMetrics = []\n",
        "\n",
        "# create lists to keep track of the predicted probabilities and ytest values\n",
        "probabilities = []\n",
        "trueValues = []\n",
        "predictions = []\n",
        "\n",
        "# rolling windows evaluation\n",
        "# uses 29 iterations to cover the entire dataset\n",
        "for i in range(29):\n",
        "    # gather start and end indices for the train and testing sample set\n",
        "    # training set consists of 10,000 records and test set is the following 1000 records\n",
        "    trainFirstRow = i*1000\n",
        "    trainEndRow = trainFirstRow + 10000\n",
        "    testEndRow   = trainEndRow + 1000\n",
        "\n",
        "    # split train and test sets into x and y\n",
        "    Xtrain, ytrain = dataCols[trainFirstRow:trainEndRow], targetCol[trainFirstRow:trainEndRow]\n",
        "    Xtest, ytest = dataCols[trainEndRow:testEndRow],   targetCol[trainEndRow:testEndRow]\n",
        "\n",
        "    # get the fitted model and best estimator by passing training sets through grid search\n",
        "    model, bestEstimator = gridSearch(Xtrain, ytrain, random_state=0)\n",
        "    # get a list of predicted probabilities for the test set\n",
        "    predictedProb = model.predict_proba(Xtest)[:,1]\n",
        "\n",
        "    # turn predicted probabilities into predictions\n",
        "    samplePredictions = (predictedProb > 0.5).astype(int)\n",
        "\n",
        "    # append sample metrics to list\n",
        "    sampleMetrics.append({'Window': (i + 1),\n",
        "                          'Best Estimator': bestEstimator,\n",
        "                          'AUC': roc_auc_score(ytest, predictedProb),\n",
        "                          'Accuracy': accuracy_score(ytest, samplePredictions),\n",
        "                          'Precision': precision_score(ytest, samplePredictions),\n",
        "                          'Recall': recall_score(ytest, samplePredictions),\n",
        "                          'F1': f1_score(ytest, samplePredictions)})\n",
        "\n",
        "    # append the list of predicted probabilities, true values, and predictions to their corresponding lists\n",
        "    probabilities.append(predictedProb)\n",
        "    trueValues.append(ytest)\n",
        "    predictions.append(samplePredictions)"
      ],
      "metadata": {
        "id": "YHFaqlIzwm07"
      },
      "execution_count": null,
      "outputs": []
    },
    {
      "cell_type": "markdown",
      "source": [
        "**Evaluation Metrics and Results**\n",
        "\n",
        "Finally I combined all the predicted probabilities and true values to compute the predictions from the model.  I used the author's chosen evaluation metrics: auc, accuracy, precision, recall, and F1.  AUC capture the discrimination power of the model while accuracy capture overall correctness. Precision and recall give us an insight into how prone the model is for Type I and Type II errors, while F1 balances these two metrics.\n",
        "\n",
        "My results pretty closely matched the scores found by the authors.  Overall, they determined this was the best model because it had the highest auc score of 0.73, while mine was just slightly less at 0.71. One thing to note is that the model was better at predicting popular articles (is_popular = 1 ~ shares >= 1400), rather than unpopular articles (is_popular = 0 ~ shares < 1400).  This is reiterated in the confusion matrix."
      ],
      "metadata": {
        "id": "9Vu63qZNhkJO"
      }
    },
    {
      "cell_type": "code",
      "source": [
        "# make a dataframe out of the sample metrics (will make some graphs later)\n",
        "windowMetrics = pd.DataFrame(sampleMetrics)\n",
        "\n",
        "# take the list of lists and concatenate them to create one long list\n",
        "allProbailites = np.concatenate(probabilities)\n",
        "allTrueValues = np.concatenate(trueValues)\n",
        "allPredictions = (np.concatenate(predictions))\n",
        "\n",
        "# display overall and category specific evaluation metrics\n",
        "print(\"AUC:\", round(roc_auc_score(allTrueValues, allProbailites), 4))\n",
        "print(\"Accuracy:\", round(accuracy_score(allTrueValues, allPredictions), 4))\n",
        "print(\"Precision:\", round(precision_score(allTrueValues, allPredictions), 4))\n",
        "print(\"Recall:\", round(recall_score(allTrueValues, allPredictions), 4))\n",
        "print(\"F1:\", round(f1_score(allTrueValues, allPredictions), 4))\n",
        "print(\"\\nClassification report:\\n\", classification_report(allTrueValues, allPredictions, target_names=['not popular','popular']))"
      ],
      "metadata": {
        "colab": {
          "base_uri": "https://localhost:8080/"
        },
        "id": "4O-5io6lyUyb",
        "outputId": "c7be3141-329b-485a-c1d4-62d0ba31bfba"
      },
      "execution_count": null,
      "outputs": [
        {
          "output_type": "stream",
          "name": "stdout",
          "text": [
            "AUC: 1.0\n",
            "Accuracy: 0.9998\n",
            "Precision: 0.9999\n",
            "Recall: 0.9998\n",
            "F1: 0.9998\n",
            "\n",
            "Classification report:\n",
            "               precision    recall  f1-score   support\n",
            "\n",
            " not popular       1.00      1.00      1.00     13076\n",
            "     popular       1.00      1.00      1.00     15924\n",
            "\n",
            "    accuracy                           1.00     29000\n",
            "   macro avg       1.00      1.00      1.00     29000\n",
            "weighted avg       1.00      1.00      1.00     29000\n",
            "\n"
          ]
        }
      ]
    },
    {
      "cell_type": "code",
      "source": [
        "from sklearn.metrics import confusion_matrix\n",
        "\n",
        "# create a confusion matrix to visualize model performance\n",
        "mat = confusion_matrix(allTrueValues, allPredictions)\n",
        "sns.heatmap(mat.T, square=True, annot=True, fmt='d', cbar=False)\n",
        "plt.xlabel('true label')\n",
        "plt.ylabel('predicted label')\n",
        "plt.show()"
      ],
      "metadata": {
        "colab": {
          "base_uri": "https://localhost:8080/",
          "height": 458
        },
        "id": "tyylPaErb3IS",
        "outputId": "9c3b6fea-f65a-432b-a33d-8ff4592768bc"
      },
      "execution_count": null,
      "outputs": [
        {
          "output_type": "display_data",
          "data": {
            "text/plain": [
              "<Figure size 640x480 with 1 Axes>"
            ],
            "image/png": "[encoded data removed]"
          },
          "metadata": {}
        }
      ]
    },
    {
      "cell_type": "markdown",
      "source": [
        "Besides looking at the overall evaluation metrics for the model, I wanted to see the variation for each window.  I saved the best estimator, auc, accuracy, precision, recall, and f1 score for each sample into a dataframe, then plotted them below. One thing to note is the first three samples performed the best with the number of levels at 200, while the rest performed best at 400.  Recall had the highest variation and we saw for the overall model, it was much higher for predicting popular articles then unpopular. We don't see any patterns in the charts which since we sorted by time published, it means this feature has nothing to do with predicting article performance."
      ],
      "metadata": {
        "id": "sVxS4H74nS_w"
      }
    },
    {
      "cell_type": "code",
      "source": [
        "fig, ax = plt.subplots(3, 2, figsize=(10, 10))\n",
        "\n",
        "ax[0][0].plot(windowMetrics['Window'], windowMetrics['Best Estimator'], marker='o')\n",
        "ax[0][0].set_xlabel(\"Window\")\n",
        "ax[0][0].set_ylabel(\"Best Estimator\")\n",
        "ax[0][0].set_title(\"Best Estimator over Rolling Windows\")\n",
        "\n",
        "ax[0][1].plot(windowMetrics['Window'], windowMetrics['AUC'], marker='o', linestyle='-')\n",
        "ax[0][1].set_xlabel(\"Window\")\n",
        "ax[0][1].set_ylabel(\"AUC\")\n",
        "ax[0][1].set_title(\"AUC over Rolling Windows\")\n",
        "\n",
        "ax[1][0].plot(windowMetrics['Window'], windowMetrics['Accuracy'], marker='o', linestyle='-')\n",
        "ax[1][0].set_xlabel(\"Window\")\n",
        "ax[1][0].set_ylabel(\"Accuracy\")\n",
        "ax[1][0].set_title(\"Accuracy over Rolling Windows\")\n",
        "\n",
        "ax[1][1].plot(windowMetrics['Window'], windowMetrics['Precision'], marker='o', linestyle='-')\n",
        "ax[1][1].set_xlabel(\"Window\")\n",
        "ax[1][1].set_ylabel(\"Precision\")\n",
        "ax[1][1].set_title(\"Precision over Rolling Windows\")\n",
        "\n",
        "ax[2][0].plot(windowMetrics['Window'], windowMetrics['Recall'], marker='o', linestyle='-')\n",
        "ax[2][0].set_xlabel(\"Window\")\n",
        "ax[2][0].set_ylabel(\"Recall\")\n",
        "ax[2][0].set_title(\"Recall over Rolling Windows\")\n",
        "\n",
        "ax[2][1].plot(windowMetrics['Window'], windowMetrics['F1'], marker='o', linestyle='-')\n",
        "ax[2][1].set_xlabel(\"Window\")\n",
        "ax[2][1].set_ylabel(\"F1\")\n",
        "ax[2][1].set_title(\"F1 over Rolling Windows\")\n",
        "\n",
        "plt.tight_layout()\n",
        "plt.show()"
      ],
      "metadata": {
        "colab": {
          "base_uri": "https://localhost:8080/",
          "height": 1000
        },
        "id": "EA2C5oUKe3G2",
        "outputId": "be214336-0b33-426d-fc62-e88aa80eec77"
      },
      "execution_count": null,
      "outputs": [
        {
          "output_type": "display_data",
          "data": {
            "text/plain": [
              "<Figure size 1000x1000 with 6 Axes>"
            ],
            "image/png": "[encoded data removed]"
          },
          "metadata": {}
        }
      ]
    },
    {
      "cell_type": "markdown",
      "source": [
        "**Advantages**\n",
        "\n",
        "Now to discuss some of the advantages for using a Random Forest model on this data. Although all our columns have numerical data types, they represent different numerical (number of tokens, shares, links) and categorical (day of the week published, topic category) features. Random Forest handles this variety well, so I don't have to standardize/scale most features, yet the model uses all features effectively.  Also Random Forest splits on thresholds rather than relying on linear relationships, so it's robust to outliers and skewed distributions, which are common in online article data.  Additionally, this model captures non-linear feature combinations, which is most likely the case with article popularity. Overall, one of the main advantages with Random Forest and the reason it performed the best is because it averages out many decision trees, which reduces variance and makes predictions more consistent over time.\n"
      ],
      "metadata": {
        "id": "TUKrZl7Ak_PL"
      }
    },
    {
      "cell_type": "markdown",
      "source": [
        "**Deployment**\n",
        "\n",
        "Our Random Forest model would be highly useful to news organizations, advertisers, and editors by predicting which articles are likely to be popular before publication. This could guide resource allocation, targeted advertising, and editorial decisions, ultimately, increasing engagement and revenue. To measure the model's value in practice, stakeholders could track engagement metrics and compare them to a baseline where no predictions are used. Deployment would ideally take place through a content management system or via an API, giving editors immediate feedback on an article's popularity probability and the features most responsible for the prediction. For even greater accuracy, organizations should collect additional data such as early user behavior signals, author history, and trending social media context. Because reader interests change quickly, the model should be updated on a frequent basis using a rolling-window approach."
      ],
      "metadata": {
        "id": "aCGFWWr41BWL"
      }
    },
    {
      "cell_type": "markdown",
      "source": [
        "# Statistical Comparison of Models"
      ],
      "metadata": {
        "id": "xQMBOZmo8iYv"
      }
    },
    {
      "cell_type": "code",
      "source": [
        "# RF on same 80/20 split and perform significance tests\n",
        "import numpy as np\n",
        "import pandas as pd\n",
        "import warnings\n",
        "\n",
        "from sklearn.model_selection import train_test_split\n",
        "from sklearn.ensemble import RandomForestClassifier\n",
        "from sklearn.metrics import (\n",
        "    accuracy_score, precision_score, recall_score, f1_score,\n",
        "    roc_auc_score\n",
        ")\n",
        "\n",
        "\n",
        "# build and confirm target and drop leakage columns\n",
        "target_col = None\n",
        "if 'popular' in df.columns:\n",
        "    target_col = 'popular'\n",
        "elif 'is_popular' in df.columns:\n",
        "    target_col = 'is_popular'\n",
        "else:\n",
        "    if 'shares' not in df.columns:\n",
        "        raise KeyError(\"Target not found and 'shares' missing. Columns: \" + str(df.columns.tolist()))\n",
        "    median_shares = df['shares'].median()\n",
        "    df['popular'] = (df['shares'] >= median_shares).astype(int)\n",
        "    target_col = 'popular'\n",
        "\n",
        "# define leakage columns\n",
        "leak_cols = {\"url\", \"timedelta\", \"shares\", \"popular\", \"is_popular\"}\n",
        "\n",
        "feature_cols = [c for c in df.columns if c not in leak_cols]\n",
        "X = df[feature_cols].astype(np.float32).copy()\n",
        "y = df[target_col].to_numpy()\n",
        "\n",
        "# make the same 80/20 stratified split we used for LR and KNN\n",
        "X_train, X_test, y_train, y_test = train_test_split(\n",
        "    X, y, test_size=0.20, stratify=y, random_state=42\n",
        ")\n",
        "\n",
        "# train random forest on that split\n",
        "rf80 = RandomForestClassifier(\n",
        "    n_estimators=400,\n",
        "    random_state=42,\n",
        "    n_jobs=-1\n",
        ")\n",
        "rf80.fit(X_train, y_train)\n",
        "\n",
        "\n",
        "# get probabilities and final class predictions\n",
        "y_prob_rf80 = rf80.predict_proba(X_test)[:, 1]\n",
        "y_pred_rf80 = (y_prob_rf80 >= 0.5).astype(int)\n",
        "\n",
        "# print results\n",
        "print(\"Random Forest (same 80/20 split) metrics:\")\n",
        "print(f\"Accuracy : {accuracy_score(y_test, y_pred_rf80):.4f}\")\n",
        "print(f\"Precision: {precision_score(y_test, y_pred_rf80):.4f}\")\n",
        "print(f\"Recall   : {recall_score(y_test, y_pred_rf80):.4f}\")\n",
        "print(f\"F1-score : {f1_score(y_test, y_pred_rf80):.4f}\")\n",
        "print(f\"ROC-AUC  : {roc_auc_score(y_test, y_prob_rf80):.4f}\")"
      ],
      "metadata": {
        "colab": {
          "base_uri": "https://localhost:8080/"
        },
        "id": "z4OwWDWQ2ntW",
        "outputId": "f6d5b682-1957-4d01-d922-5d619036b7fd"
      },
      "execution_count": null,
      "outputs": [
        {
          "output_type": "stream",
          "name": "stdout",
          "text": [
            "Random Forest (same 80/20 split) metrics:\n",
            "Accuracy : 0.6749\n",
            "Precision: 0.6781\n",
            "Recall   : 0.7438\n",
            "F1-score : 0.7094\n",
            "ROC-AUC  : 0.7381\n"
          ]
        }
      ]
    },
    {
      "cell_type": "code",
      "source": [
        "from statsmodels.stats.contingency_tables import mcnemar\n",
        "from sklearn.metrics import f1_score\n",
        "\n",
        "\n",
        "# McNemar’s test compares two classifiers on the same test set\n",
        "# builds a 2x2 table of \"who was right/wrong\" and asks: are they making different kinds of mistakes often enough that one is truly better?\n",
        "def mcnemar_pair(y_true, pA, pB, labelA=\"A\", labelB=\"B\"):\n",
        "    both_correct = np.sum((pA == y_true) & (pB == y_true))\n",
        "    A_only      = np.sum((pA == y_true) & (pB != y_true))\n",
        "    B_only      = np.sum((pA != y_true) & (pB == y_true))\n",
        "    both_wrong  = np.sum((pA != y_true) & (pB != y_true))\n",
        "    table = [[both_correct, A_only],\n",
        "             [B_only,      both_wrong]]\n",
        "    res = mcnemar(table, exact=True)\n",
        "    print(f\"McNemar p-value ({labelA} vs {labelB}): {res.pvalue:.6f}  -> significant @95%? {res.pvalue < 0.05}\")\n",
        "\n",
        "\n",
        "# bootstrap test for difference in F1\n",
        "# we resample the test set many times, compute F1(A) - F1(B), and see where the 95% confidence interval falls\n",
        "def bootstrap_delta_f1(y_true, pA, pB, B=5000, seed=42):\n",
        "    rng = np.random.default_rng(seed)\n",
        "    idx = np.arange(len(y_true))\n",
        "    diffs = np.empty(B, dtype=float)\n",
        "    for b in range(B):\n",
        "        samp = rng.choice(idx, size=len(idx), replace=True)\n",
        "        diffs[b] = f1_score(y_true[samp], pA[samp]) - f1_score(y_true[samp], pB[samp])\n",
        "    lo, hi = np.percentile(diffs, [2.5, 97.5])\n",
        "    mean_d = diffs.mean()\n",
        "    sig = not (lo <= 0 <= hi)\n",
        "    print(f\"ΔF1 95% CI [{lo:.4f}, {hi:.4f}] (mean {mean_d:.4f})  -> {'SIGNIFICANT' if sig else 'ns'}\")\n",
        "    return mean_d, lo, hi, sig\n",
        "\n",
        "# check if we actually have LR or KNN predictions saved in memory\n",
        "have_lr = 'y_pred_lr' in globals()\n",
        "have_knn = 'y_pred_knn' in globals()\n",
        "if not (have_lr or have_knn):\n",
        "    warnings.warn(\n",
        "        \"y_pred_lr / y_pred_knn not found. \"\n",
        "    )\n",
        "\n",
        "# helper to make sure predictions line up with y_test\n",
        "def _check_align(name, p):\n",
        "    if len(p) != len(y_test):\n",
        "        raise ValueError(f\"{name} length {len(p)} != y_test length {len(y_test)}; ensure same 80/20 split.\")\n",
        "    return p.astype(int)\n",
        "\n",
        "# Logistic Regression vs Random Forest\n",
        "if have_lr:\n",
        "    y_pred_lr = _check_align(\"y_pred_lr\", y_pred_lr)\n",
        "    print(\"LR vs RF (McNemar):\")\n",
        "    mcnemar_pair(y_test, y_pred_lr, y_pred_rf80, \"LR\", \"RF\")\n",
        "    print(\"LR vs RF (Bootstrap ΔF1 = F1(LR) - F1(RF)):\")\n",
        "    bootstrap_delta_f1(y_test, y_pred_lr, y_pred_rf80)\n",
        "    print()\n",
        "\n",
        "# KNN vs Random Forest\n",
        "if have_knn:\n",
        "    y_pred_knn = _check_align(\"y_pred_knn\", y_pred_knn)\n",
        "    print(\"KNN vs RF (McNemar):\")\n",
        "    mcnemar_pair(y_test, y_pred_knn, y_pred_rf80, \"KNN\", \"RF\")\n",
        "    print(\"KNN vs RF (Bootstrap ΔF1 = F1(KNN) - F1(RF)):\")\n",
        "    bootstrap_delta_f1(y_test, y_pred_knn, y_pred_rf80)\n",
        "    print()\n",
        "\n",
        "# Logistic Regression vs KNN\n",
        "if have_lr and have_knn:\n",
        "    print(\"LR vs KNN (McNemar):\")\n",
        "    mcnemar_pair(y_test, y_pred_lr, y_pred_knn, \"LR\", \"KNN\")\n",
        "    print(\"LR vs KNN (Bootstrap ΔF1 = F1(LR) - F1(KNN)):\")\n",
        "    bootstrap_delta_f1(y_test, y_pred_lr, y_pred_knn)\n",
        "    print()"
      ],
      "metadata": {
        "colab": {
          "base_uri": "https://localhost:8080/"
        },
        "id": "RV9GWQgP4AnX",
        "outputId": "3c812230-ce75-4445-d7e3-3bb910edc15a"
      },
      "execution_count": null,
      "outputs": [
        {
          "output_type": "stream",
          "name": "stdout",
          "text": [
            "LR vs RF (McNemar):\n",
            "McNemar p-value (LR vs RF): 0.015661  -> significant @95%? True\n",
            "LR vs RF (Bootstrap ΔF1 = F1(LR) - F1(RF)):\n",
            "ΔF1 95% CI [-0.0376, -0.0104] (mean -0.0240)  -> SIGNIFICANT\n",
            "\n"
          ]
        }
      ]
    },
    {
      "cell_type": "markdown",
      "source": [
        "To see if there are statistically significant differences among our model's performance, we used McNemar and bootstrap testing.  McNemar's test is used on paired nominal data to determine if their marginal frequencies are equal. Bootstrap testing performs a hypothesis test by resampling a single dataset.  Firstly, we recreated a simpler Random Forest model using an 80/20 split so it matched the split ratio of the other models.  Then, we ran each combination of models (KNN-rf, KNN-lr, lr-rf) through both tests to see if their metrics we're significantly different at a 95% confidence level. The only combination that showed significant results are logistic regression and random forest.  The p-value for McNemar's test was 0.015661 and the confidence interval computed using the Bootstrap test did not include zero.  "
      ],
      "metadata": {
        "id": "BfZ_lzxrCE23"
      }
    },
    {
      "cell_type": "markdown",
      "source": [
        "## Exceptional Work"
      ],
      "metadata": {
        "id": "T7M6xXitKIo0"
      }
    },
    {
      "cell_type": "code",
      "source": [
        "# threshold analysis for LR vs RF\n",
        "# the goal here is to see how changing the probability threshold\n",
        "# affects Precision, Recall, and F1 for both LR and RF\n",
        "import numpy as np\n",
        "import matplotlib.pyplot as plt\n",
        "from sklearn.metrics import precision_score, recall_score, f1_score\n",
        "\n",
        "\n",
        "thresholds = np.linspace(0.1, 0.9, 17)\n",
        "\n",
        "# helper function: for each threshold, calculate precision, recall, and F1. it returns arrays so we can plot curves later\n",
        "def sweep_metrics(y_true, y_prob, ths):\n",
        "    prec, rec, f1 = [], [], []\n",
        "    for t in ths:\n",
        "        pred = (y_prob >= t).astype(int)\n",
        "        prec.append(precision_score(y_true, pred, zero_division=0))\n",
        "        rec.append(recall_score(y_true, pred))\n",
        "        f1.append(f1_score(y_true, pred))\n",
        "    return np.array(prec), np.array(rec), np.array(f1)\n",
        "\n",
        "# run the sweep for both LR and RF\n",
        "prec_lr, rec_lr, f1_lr = sweep_metrics(y_test, y_prob_lr, thresholds)\n",
        "prec_rf, rec_rf, f1_rf = sweep_metrics(y_test, y_prob_rf80, thresholds)\n",
        "\n",
        "# plot Logistic Regression curves\n",
        "plt.figure(figsize=(6.5, 4.5))\n",
        "plt.plot(thresholds, prec_lr, label=\"LR – Precision\")\n",
        "plt.plot(thresholds, rec_lr,  label=\"LR – Recall\")\n",
        "plt.plot(thresholds, f1_lr,   label=\"LR – F1\")\n",
        "plt.xlabel(\"Decision Threshold\")\n",
        "plt.ylabel(\"Score\")\n",
        "plt.title(\"Logistic Regression: Precision/Recall/F1 vs Threshold\")\n",
        "plt.legend()\n",
        "plt.grid(True)\n",
        "plt.show()\n",
        "\n",
        "\n",
        "# plot Random Forest curves\n",
        "plt.figure(figsize=(6.5, 4.5))\n",
        "plt.plot(thresholds, prec_rf, label=\"RF – Precision\")\n",
        "plt.plot(thresholds, rec_rf,  label=\"RF – Recall\")\n",
        "plt.plot(thresholds, f1_rf,   label=\"RF – F1\")\n",
        "plt.xlabel(\"Decision Threshold\")\n",
        "plt.ylabel(\"Score\")\n",
        "plt.title(\"Random Forest: Precision/Recall/F1 vs Threshold\")\n",
        "plt.legend()\n",
        "plt.grid(True)\n",
        "plt.show()"
      ],
      "metadata": {
        "colab": {
          "base_uri": "https://localhost:8080/",
          "height": 897
        },
        "id": "UFP8aw__KLrp",
        "outputId": "0d1c282c-6e28-469e-f5ae-165b08fcbe9e"
      },
      "execution_count": null,
      "outputs": [
        {
          "output_type": "display_data",
          "data": {
            "text/plain": [
              "<Figure size 650x450 with 1 Axes>"
            ],
            "image/png": "[encoded data removed]"
          },
          "metadata": {}
        },
        {
          "output_type": "display_data",
          "data": {
            "text/plain": [
              "<Figure size 650x450 with 1 Axes>"
            ],
            "image/png": "[encoded data removed]"
          },
          "metadata": {}
        }
      ]
    },
    {
      "cell_type": "code",
      "source": [
        "# calibration curves and brier scores\n",
        "# here we want to check not just if the models classify correctly,\n",
        "# but whether their predicted probabilities are honest\n",
        "\n",
        "import matplotlib.pyplot as plt\n",
        "from sklearn.calibration import CalibrationDisplay\n",
        "from sklearn.metrics import brier_score_loss\n",
        "\n",
        "# use Logistic Regression predicted probabilities\n",
        "y_prob_lr = y_prob\n",
        "\n",
        "# calculate Brier scores\n",
        "brier_lr = brier_score_loss(y_test, y_prob_lr)\n",
        "brier_rf = brier_score_loss(y_test, y_prob_rf80)\n",
        "\n",
        "# plot calibration curves for LR and RF\n",
        "fig = plt.figure(figsize=(6.5, 4.5))\n",
        "CalibrationDisplay.from_predictions(y_test, y_prob_lr, n_bins=10, name=f\"LR (Brier={brier_lr:.3f})\")\n",
        "CalibrationDisplay.from_predictions(y_test, y_prob_rf80, n_bins=10, name=f\"RF (Brier={brier_rf:.3f})\")\n",
        "plt.title(\"Calibration (Reliability) Plot: LR vs RF\")\n",
        "plt.grid(True)\n",
        "plt.show()"
      ],
      "metadata": {
        "colab": {
          "base_uri": "https://localhost:8080/",
          "height": 939
        },
        "id": "r4b9IDO-KQVC",
        "outputId": "4db6e73f-3d88-41e9-ed3a-0b9b5f2fd167"
      },
      "execution_count": null,
      "outputs": [
        {
          "output_type": "display_data",
          "data": {
            "text/plain": [
              "<Figure size 650x450 with 0 Axes>"
            ]
          },
          "metadata": {}
        },
        {
          "output_type": "display_data",
          "data": {
            "text/plain": [
              "<Figure size 640x480 with 1 Axes>"
            ],
            "image/png": "[encoded data removed]"
          },
          "metadata": {}
        },
        {
          "output_type": "display_data",
          "data": {
            "text/plain": [
              "<Figure size 640x480 with 1 Axes>"
            ],
            "image/png": "[encoded data removed]"
          },
          "metadata": {}
        }
      ]
    },
    {
      "cell_type": "markdown",
      "source": [
        "## Comments\n",
        "\n",
        "In this section we compared Logistic Regression and Random Forest not only by their overall accuracy but also by looking deeper into decision thresholds and calibration. Logistic Regression is a linear and interpretable baseline that predicts probabilities through a sigmoid curve, while Random Forest is a non-linear ensemble of decision trees that generally achieves stronger predictive performance but with less transparency.\n",
        "\n",
        "We first performed a threshold analysis by varying the decision cutoff from 0.1 to 0.9. This allowed us to see how precision, recall, and F1 change depending on where we set the threshold. Logistic Regression showed a fairly balanced trade-off, with recall staying strong at lower thresholds and F1 peaking around the standard 0.5 cutoff. Random Forest achieved higher recall across thresholds, meaning it was very good at capturing popular articles, but this came at the cost of lower precision at the more permissive thresholds.\n",
        "\n",
        "Next, we examined calibration plots and Brier scores to assess the reliability of the probability outputs. Logistic Regression was much better calibrated, with a Brier score around 0.07, meaning its predicted probabilities aligned closely with actual outcomes. Random Forest, on the other hand, had a higher Brier score near 0.21, showing that while it can classify accurately, its probability estimates are less trustworthy.\n",
        "\n",
        "Overall, these results highlight a trade-off. Random Forest is the stronger classifier if the goal is predictive accuracy, as shown by its higher recall and F1. Logistic Regression, however, is more reliable when we need well-calibrated probabilities that reflect real likelihoods, which could be particularly valuable for decision-making in settings like newsrooms or advertising, where probability estimates guide resource allocation."
      ],
      "metadata": {
        "id": "0ZAoaAeam9xE"
      }
    }
  ]
}